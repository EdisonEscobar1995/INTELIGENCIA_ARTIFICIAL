{
 "cells": [
  {
   "cell_type": "markdown",
   "metadata": {},
   "source": [
    "## Trabajo No. 1\n",
    "### Sobre: Algoritmos genéticos\n",
    "#### Integrantes: Cristian Yepes Sanchez, Edison Escobar Posada"
   ]
  },
  {
   "cell_type": "markdown",
   "metadata": {},
   "source": [
    "# Punto 1\n",
    "\n",
    "$aptitud(x)=\\begin{Bmatrix}\n",
    "si (\\sum x_{peso} \\leqslant k) \\Rightarrow  \\sum x_{valor}\n",
    "\\\\ \n",
    "sino \\Rightarrow  0\n",
    "\\end{Bmatrix} $"
   ]
  },
  {
   "cell_type": "markdown",
   "metadata": {},
   "source": [
    "## 1.1 Funcion de aptitud"
   ]
  },
  {
   "cell_type": "code",
   "execution_count": 126,
   "metadata": {},
   "outputs": [],
   "source": [
    "import numpy as np\n",
    "\n",
    "def funcion_aptitud(x, peso, valor, capacidad):\n",
    "\n",
    "    if (np.sum(peso*x) <= capacidad):\n",
    "        aptitud = np.sum(valor*x)\n",
    "    else:\n",
    "        aptitud = 0\n",
    "    return aptitud"
   ]
  },
  {
   "cell_type": "markdown",
   "metadata": {},
   "source": [
    "## 1.2 Parametros iniciales\n",
    "Problema 1. <img src=\"images/problema1.1.1.png\" />\n",
    "Problema 2. <img src=\"images/problema1.1.2.png\" />\n",
    "Problema 3. <img src=\"images/problema1.1.3.png\" />\n",
    "Problema 4. <img src=\"images/problema1.1.4.png\" />"
   ]
  },
  {
   "cell_type": "code",
   "execution_count": 127,
   "metadata": {},
   "outputs": [],
   "source": [
    "#Problema 1\n",
    "ni = 100 #numero de iteraciones\n",
    "nc = 10 #tamaño de la poblacion\n",
    "ng = 4 #numero de genes por cromosoma\n",
    "pc = 0.9 #probabilidad de cruce\n",
    "pm = 0.5 #probabilidad de mutacion\n",
    "\n",
    "peso = [3, 5, 9, 5]\n",
    "valor = [45, 30, 45, 10]\n",
    "k = 16"
   ]
  },
  {
   "cell_type": "code",
   "execution_count": 128,
   "metadata": {},
   "outputs": [],
   "source": [
    "#Problema 2\n",
    "ni = 50 #numero de iteraciones\n",
    "nc = 10 #tamaño de la poblacion\n",
    "ng = 8 #numero de genes por cromosoma\n",
    "pc = 0.9 #probabilidad de cruce\n",
    "pm = 0.5 #probabilidad de mutacion\n",
    "\n",
    "peso = [2, 20, 20, 30, 40, 30, 60, 10]\n",
    "valor = [15, 100, 90, 60, 40, 15, 10, 1]\n",
    "k = 102"
   ]
  },
  {
   "cell_type": "code",
   "execution_count": 131,
   "metadata": {},
   "outputs": [],
   "source": [
    "#Problema 3\n",
    "ni = 100 #numero de iteraciones\n",
    "nc = 10 #tamaño de la poblacion\n",
    "ng = 7 #numero de genes por cromosoma\n",
    "pc = 0.9 #probabilidad de cruce\n",
    "pm = 0.5 #probabilidad de mutacion\n",
    "\n",
    "peso = [31, 10, 20, 19, 4, 3, 6]\n",
    "valor = [70, 20, 39, 37, 7, 5, 10]\n",
    "k = 50"
   ]
  },
  {
   "cell_type": "code",
   "execution_count": 141,
   "metadata": {},
   "outputs": [],
   "source": [
    "#Problema 4\n",
    "ni = 100 #numero de iteraciones\n",
    "nc = 10 #tamaño de la poblacion\n",
    "ng = 8 #numero de genes por cromosoma\n",
    "pc = 0.9 #probabilidad de cruce\n",
    "pm = 0.5 #probabilidad de mutacion\n",
    "\n",
    "peso = [25, 35, 45, 5, 25, 3, 2, 2]\n",
    "valor = [350, 400, 450, 20, 70, 8, 5, 5]\n",
    "k = 104"
   ]
  },
  {
   "cell_type": "markdown",
   "metadata": {},
   "source": [
    "## 1.3 Inicializacion de poblacion (p) y calculo de funcion de aptitud"
   ]
  },
  {
   "cell_type": "code",
   "execution_count": 320,
   "metadata": {
    "scrolled": true
   },
   "outputs": [],
   "source": [
    "def poblacion_Inicial():\n",
    "    #P es la poblacion inicial\n",
    "    p = np.round(np.random.random([nc, ng]))\n",
    "    #paux = np.zeros([nc, ng])\n",
    "    \n",
    "    for i in range(nc):\n",
    "        paux[i] = p[i]\n",
    "    #fa es el vector de la función de aptitud de cada uno de los individuos de poblacion\n",
    "    fa = np.zeros([nc], dtype=np.int)\n",
    "    \n",
    "    for i in range(nc):\n",
    "        fa[i] = funcion_aptitud(p[i], peso, valor, k)\n",
    "\n",
    "\n",
    "    print(\"Poblacion inicial... \")\n",
    "    print (p)\n",
    "    print(\"Aptitudes... \")\n",
    "    print (fa)"
   ]
  },
  {
   "cell_type": "code",
   "execution_count": 321,
   "metadata": {},
   "outputs": [
    {
     "name": "stdout",
     "output_type": "stream",
     "text": [
      "Poblacion inicial... \n",
      "[[0. 0. 1. 1. 1. 1. 0. 0.]\n",
      " [1. 0. 1. 1. 0. 0. 0. 0.]\n",
      " [1. 0. 0. 0. 0. 1. 1. 0.]\n",
      " [1. 0. 1. 0. 1. 0. 0. 0.]\n",
      " [0. 0. 1. 1. 0. 0. 1. 0.]\n",
      " [0. 0. 1. 1. 0. 0. 0. 1.]\n",
      " [1. 1. 1. 0. 1. 0. 0. 1.]\n",
      " [0. 0. 1. 1. 1. 0. 0. 1.]\n",
      " [1. 0. 1. 1. 1. 1. 0. 1.]\n",
      " [0. 1. 0. 0. 1. 1. 1. 0.]]\n",
      "Aptitudes... \n",
      "[548 820 363 870 475 475   0 545   0 483]\n"
     ]
    }
   ],
   "source": [
    "poblacion_Inicial()"
   ]
  },
  {
   "cell_type": "markdown",
   "metadata": {},
   "source": [
    "## 1.4. Ciclo principal del algoritmo genético:\n",
    "**Seleccion->Cruce->Mutación->Evaluación->Inserción**"
   ]
  },
  {
   "cell_type": "code",
   "execution_count": 322,
   "metadata": {},
   "outputs": [],
   "source": [
    "def seleccion_ruleta(numChilds):\n",
    "    #Selección por medio de la ruleta\n",
    "    probabilidades = np.zeros([nc], dtype=np.double)\n",
    "    individuos = np.zeros([numChilds], dtype=np.int)\n",
    "    for j in range (numChilds):\n",
    "        for i in range(nc):\n",
    "            probabilidades[i] = (float(fa[i])/np.sum(fa))\n",
    "        \n",
    "        #Calculemos el valor aleatorio de la ruleta\n",
    "        numRandom = np.random.rand()\n",
    "        #print(\"Numero Random (Ruleta): \", numRandom)\n",
    "        #Calculemos las probabilidades acumuladas\n",
    "        probabilidadesAcum = np.cumsum(probabilidades)\n",
    "        \n",
    "        #Seleccionemos un individuo segun el criterio explicado anteriormente\n",
    "        individuos[j] = np.argmax(probabilidadesAcum >= numRandom)\n",
    "        #print probabilidadesAcum[np.argmax(probabilidadesAcum >= numRandom)]\n",
    "        #print(\"Individuo seleccionado: \", individuos)\n",
    "    return individuos;"
   ]
  },
  {
   "cell_type": "code",
   "execution_count": 323,
   "metadata": {},
   "outputs": [],
   "source": [
    "def show(yrandom, yruleta, x):\n",
    "    a = np.array(range(0,ni))\n",
    "    print \"By Random\"\n",
    "    print yrandom\n",
    "    '''\n",
    "    plot solution\n",
    "    '''\n",
    "    best_path = p[np.argmax(fa)]\n",
    "    plt.plot(x, yrandom, 'r*')#paths\n",
    "    plt.plot(x, yrandom, linestyle=':', color='b')\n",
    "    plt.show()\n",
    "    \n",
    "    print \"By Ruleta\"\n",
    "    print yruleta\n",
    "    '''\n",
    "    plot solution\n",
    "    '''\n",
    "    best_path = p[np.argmax(fa)]\n",
    "    plt.plot(x, yruleta, 'r*')#paths\n",
    "    plt.plot(x, yruleta, linestyle=':', color='b')\n",
    "    plt.show()"
   ]
  },
  {
   "cell_type": "code",
   "execution_count": 324,
   "metadata": {},
   "outputs": [],
   "source": [
    "def main_Bucle(method):    \n",
    "    y = np.zeros([ni], dtype=np.float)\n",
    "    #print method\n",
    "    for i in range(ni):       \n",
    "        if (method == \"random\"):\n",
    "            #Seleccion aleatoria\n",
    "            p1 = np.random.randint(nc-1)\n",
    "            p2 = np.random.randint(nc-1)        \n",
    "        elif (method == \"ruleta\"):\n",
    "            #Seleccion - Ruleta\n",
    "            seleccionados = seleccion_ruleta(2)\n",
    "\n",
    "            p1 = seleccionados[0]\n",
    "            p2 = seleccionados[1]\n",
    "\n",
    "        #Cruce a un punto\n",
    "        if(np.random.rand() <= pc):\n",
    "            cross_point = np.random.randint(ng)\n",
    "            child1 = np.append(p[p1, 0:cross_point], p[p2, cross_point:])\n",
    "            child2 = np.append(p[p2, 0:cross_point], p[p1, cross_point:])\n",
    "\n",
    "        #Mutacion: se muta un bit aleatoriamente\n",
    "        if(np.random.rand() <= pm):\n",
    "            mut_point_c1 = np.random.randint(ng-1)\n",
    "            mut_point_c2 = np.random.randint(ng-1)\n",
    "\n",
    "            child1[mut_point_c1] = 1-child1[mut_point_c1]\n",
    "            child2[mut_point_c2] = 1-child2[mut_point_c2]\n",
    "        \n",
    "        #Se evaluan los nuevos hijos\n",
    "        eval_child1 = funcion_aptitud(child1, peso, valor, k)\n",
    "        eval_child2 = funcion_aptitud(child2, peso, valor, k)\n",
    "\n",
    "        #Insercion por reemplazo de los padres.\n",
    "        if(eval_child1 > fa[p1]):\n",
    "            p[p1] = child1\n",
    "            fa[p1] = eval_child1\n",
    "\n",
    "        if(eval_child2 > fa[p2]):\n",
    "            p[p2] = child2\n",
    "            fa[p2] = eval_child2\n",
    "\n",
    "        y[i] = fa[np.argmax(fa)]\n",
    "    return y"
   ]
  },
  {
   "cell_type": "code",
   "execution_count": 346,
   "metadata": {
    "scrolled": true
   },
   "outputs": [
    {
     "name": "stdout",
     "output_type": "stream",
     "text": [
      "Poblacion inicial... \n",
      "[[0. 0. 1. 0. 0. 1. 1. 0.]\n",
      " [0. 1. 1. 1. 1. 0. 0. 0.]\n",
      " [1. 1. 0. 0. 0. 1. 0. 1.]\n",
      " [0. 0. 0. 1. 0. 1. 1. 0.]\n",
      " [0. 0. 1. 1. 0. 0. 0. 0.]\n",
      " [0. 1. 1. 1. 1. 0. 1. 1.]\n",
      " [0. 1. 1. 1. 1. 1. 0. 1.]\n",
      " [1. 1. 0. 0. 0. 0. 1. 1.]\n",
      " [1. 1. 0. 1. 1. 0. 0. 0.]\n",
      " [0. 0. 1. 0. 1. 0. 1. 0.]]\n",
      "Aptitudes... \n",
      "[463   0 763  33 470   0   0 760 840 525]\n",
      "By Random\n",
      "[845. 870. 870. 870. 870. 870. 870. 870. 870. 870. 870. 870. 870. 870.\n",
      " 870. 870. 870. 870. 875. 875. 875. 875. 875. 875. 875. 883. 883. 883.\n",
      " 883. 883. 883. 883. 883. 883. 883. 883. 883. 883. 883. 883. 883. 883.\n",
      " 883. 883. 883. 883. 883. 883. 883. 883. 883. 883. 883. 888. 888. 888.\n",
      " 888. 888. 888. 888. 888. 888. 888. 888. 888. 888. 888. 888. 888. 888.\n",
      " 888. 888. 888. 888. 888. 888. 888. 888. 888. 888. 888. 888. 888. 888.\n",
      " 888. 888. 888. 888. 888. 888. 888. 888. 888. 888. 888. 888. 888. 888.\n",
      " 888. 888.]\n"
     ]
    },
    {
     "data": {
      "image/png": "[encoded data removed]",
      "text/plain": [
       "<Figure size 432x288 with 1 Axes>"
      ]
     },
     "metadata": {},
     "output_type": "display_data"
    },
    {
     "name": "stdout",
     "output_type": "stream",
     "text": [
      "By Ruleta\n",
      "[888. 888. 888. 888. 888. 888. 888. 888. 888. 888. 888. 888. 888. 888.\n",
      " 888. 888. 888. 888. 888. 888. 888. 888. 888. 888. 888. 888. 888. 888.\n",
      " 888. 888. 888. 888. 888. 888. 888. 888. 888. 888. 888. 888. 888. 888.\n",
      " 888. 888. 888. 888. 888. 888. 888. 888. 888. 888. 888. 888. 888. 888.\n",
      " 888. 888. 888. 888. 888. 888. 888. 888. 888. 888. 888. 888. 888. 888.\n",
      " 888. 888. 888. 888. 888. 888. 888. 888. 888. 888. 888. 888. 888. 888.\n",
      " 888. 888. 888. 888. 888. 888. 888. 888. 900. 900. 900. 900. 900. 900.\n",
      " 900. 900.]\n"
     ]
    },
    {
     "data": {
      "image/png": "[encoded data removed]",
      "text/plain": [
       "<Figure size 432x288 with 1 Axes>"
      ]
     },
     "metadata": {},
     "output_type": "display_data"
    }
   ],
   "source": [
    "#P es la poblacion inicial\n",
    "p = np.round(np.random.random([nc, ng]))\n",
    "\n",
    "#fa es el vector de la función de aptitud de cada uno de los individuos de poblacion\n",
    "fa = np.zeros([nc], dtype=np.int)\n",
    "paux = np.zeros([nc, ng])\n",
    "\n",
    "x = np.array(range(0, ni))\n",
    "poblacion_Inicial()\n",
    "for i in range(2):    \n",
    "    if (i == 0):        \n",
    "        yrandom = main_Bucle('random')\n",
    "    else:\n",
    "        p = paux\n",
    "        yruleta = main_Bucle('ruleta')\n",
    "show(yrandom, yruleta, x)"
   ]
  },
  {
   "cell_type": "markdown",
   "metadata": {},
   "source": [
    "## 1.5. Mostrar mejor individuo al final del ciclo"
   ]
  },
  {
   "cell_type": "code",
   "execution_count": 330,
   "metadata": {},
   "outputs": [
    {
     "name": "stdout",
     "output_type": "stream",
     "text": [
      "La mejor configuración para la bolsa es:  [1. 0. 1. 1. 1. 0. 1. 1.]\n",
      "Con una función de aptitud de:  900\n"
     ]
    }
   ],
   "source": [
    "print 'La mejor configuración para la bolsa es: ', p[np.argmax(fa)]\n",
    "print 'Con una función de aptitud de: ', fa[np.argmax(fa)]"
   ]
  },
  {
   "cell_type": "markdown",
   "metadata": {},
   "source": [
    "# Punto 2\n",
    "\n",
    "<img src='images/viajero.png' />"
   ]
  },
  {
   "cell_type": "markdown",
   "metadata": {},
   "source": [
    "## 2.1 Inicializar parámetros del algoritmo genético y gráfico de los puntos"
   ]
  },
  {
   "cell_type": "code",
   "execution_count": 2,
   "metadata": {},
   "outputs": [
    {
     "data": {
      "text/plain": [
       "[<matplotlib.lines.Line2D at 0x8d89438>]"
      ]
     },
     "execution_count": 2,
     "metadata": {},
     "output_type": "execute_result"
    },
    {
     "data": {
      "image/png": "[encoded data removed]",
      "text/plain": [
       "<Figure size 432x288 with 1 Axes>"
      ]
     },
     "metadata": {},
     "output_type": "display_data"
    }
   ],
   "source": [
    "import numpy as np\n",
    "\n",
    "%matplotlib inline\n",
    "\n",
    "import matplotlib.pyplot as plt\n",
    "\n",
    "x=np.array([1, 1, 1, 1, 2.5, 2.5, 2.5, 2.5, 2.5, 3.5, 3.5, 3.5, 3.5, 3.5, 7, 7, 7, 7, 7, 7]) #cities x coordinate\n",
    "y=np.array([1, 3, 7, 8, 14, 13.5, 13, 7.5, 1, 2, 8.2, 12.9, 13.2, 13.9, 15.5, 13.5, 12.1, 12, 10, 4]) #cities y coordinate\n",
    "\n",
    "ni = 1000 #numero de iteraciones\n",
    "nc = 100 #numero de cromosomas\n",
    "ng = 20 #numero de genes\n",
    "\n",
    "pc = 0.9 #probabilidad de cruce\n",
    "pm = 0.5 #probabilidad de mutacion\n",
    "\n",
    "plt.plot(x, y, 'r*')#cities"
   ]
  },
  {
   "cell_type": "markdown",
   "metadata": {},
   "source": [
    "## 2.2 Función de aptitud\n",
    "Para este caso, la función de aptitud de un cromosoma $c$ se define el inverso de la sumatoria de las distancias entre ciudades consecutivas que representa. Por ejemplo, el cromosoma $c = [1, 2, 3]$  representa una ruta que recorre en orden $ciudad_1->ciudad_2->ciudad_3$.\n",
    "\n",
    "En cuyo caso, la función de aptitud sería:\n",
    "\n",
    "$\\frac{1}{\\sqrt{(ciudad_1[x]-ciudad_2[x])^2 + (ciudad_1[y]-ciudad_2[y])^2} + \\sqrt{(ciudad_2[x]-ciudad_3[x])^2 + (ciudad_2[y]-ciudad_3[y])^2}}$ \n",
    "\n",
    "En términos generales, la función de aptitud se define como:\n",
    "$aptitud(x) = \\frac{1}{\\sum{\\sqrt{(ciudad_i[x]-ciudad_{i+1}[x])^2 + (ciudad_i[y]-ciudad_{i+1}[y])^2 }}}$"
   ]
  },
  {
   "cell_type": "code",
   "execution_count": 3,
   "metadata": {},
   "outputs": [],
   "source": [
    "def funcion_aptitud(c, x, y):\n",
    "    \n",
    "    #cerremos el ciclo entre ciudades\n",
    "    c = np.append(c,c[0])\n",
    "       \n",
    "    dist_sum = 0 #Esta variable almacenará la sumatoria de las distancias. Inicializar.\n",
    "    \n",
    "    for i in range(len(x)):\n",
    "        #por cada ciudad i, tomar los valores x y y de las ciudades i y la ciuad i+1\n",
    "        tx1 = x[c[i]]\n",
    "        tx2 = x[c[i+1]]\n",
    "        ty1 = y[c[i]]\n",
    "        ty2 = y[c[i+1]]\n",
    "        \n",
    "        #Valor absoluto de la distancia entre dos 2 puntos adyacentes (ciudades)\n",
    "        dist_sum += np.sqrt(abs( ((tx2-tx1)**2) + ((ty2-ty1)**2) ))\n",
    "    \n",
    "    return 1.0/dist_sum"
   ]
  },
  {
   "cell_type": "markdown",
   "metadata": {},
   "source": [
    "## 2.3. Inicializar población (p) y calcular la aptitud (fa) de sus individuos\n",
    "\n",
    "En este caso, la población inicial consiste en una matriz de enteros $p_{nc \\times ng}$, con la restricción de que la secuencia de ciudades no puede tener repetición de ciudades. Por ello cada cromosoma es una permutación de ciudades."
   ]
  },
  {
   "cell_type": "code",
   "execution_count": 4,
   "metadata": {},
   "outputs": [
    {
     "name": "stdout",
     "output_type": "stream",
     "text": [
      "[[ 4  8 14 ...  3  5 17]\n",
      " [ 9  5 12 ...  7 14 10]\n",
      " [ 8 18  1 ...  0 19  4]\n",
      " ...\n",
      " [ 2 17  1 ...  4  0 16]\n",
      " [12 19 10 ...  9  0 18]\n",
      " [ 3 15 14 ... 16  0 18]]\n"
     ]
    }
   ],
   "source": [
    "fa = np.zeros([nc], dtype=np.float) #vector de aptitudes\n",
    "p = np.zeros([nc, ng], dtype=np.int) #matriz de poblacion\n",
    "\n",
    "for i in range(nc):\n",
    "    #COMPLETAR: 2 lineas\n",
    "    p[i, :] = np.random.permutation(ng) #permutacion\n",
    "    fa[i] = funcion_aptitud(p[i, :], x, y) #funcion de aptitud\n",
    "print p"
   ]
  },
  {
   "cell_type": "markdown",
   "metadata": {},
   "source": [
    "### 2.4. Ciclo principal del algoritmo genético:\n",
    "**Seleccion->Cruce->Mutación->Evaluación->Inserción**\n",
    "\n",
    "Analizar en clase el siguiente código y:\n",
    "\n",
    "1. Evaluar la convergencia del algoritmo.\n",
    "2. Medir el impacto de los parametros iniciales en la convergencia.\n",
    "3. Implementar la etapa de inserción por reemplazo de los mejores de la población."
   ]
  },
  {
   "cell_type": "code",
   "execution_count": 5,
   "metadata": {},
   "outputs": [],
   "source": [
    "for i in range(ni):\n",
    "    #Seleccion: Padre1 - el mejor de la población. Padre2 - aleatorio\n",
    "    p1_index = np.argsort(fa)[::-1][0]\n",
    "    p2_index = np.random.randint(nc)\n",
    "    p1 = p[p1_index]\n",
    "    p2 = p[p2_index]\n",
    "    \n",
    "    #Cruce: un punto\n",
    "    if(np.random.rand() <= pc):\n",
    "        cross_point = np.random.randint(ng)\n",
    "        child1 = p1[0:cross_point]\n",
    "        child2 = p2[0:cross_point]\n",
    "        \n",
    "        init_k = cross_point\n",
    "        \n",
    "        for k in range(ng):\n",
    "            j = (init_k+k)%ng\n",
    "            if not(np.count_nonzero(child1 == p2[j])):\n",
    "                child1 = np.append(child1, p2[j])\n",
    "            \n",
    "            if not(np.count_nonzero(child2 == p1[j])):\n",
    "                child2 = np.append(child2, p1[j])\n",
    "\n",
    "    #Mutacion: cambio de orden\n",
    "    if(np.random.rand() <= pm):\n",
    "        mut_point_c1 = np.random.randint(ng-1)\n",
    "        mut_point_c2 = np.random.randint(ng-1)\n",
    "    \n",
    "        temp = child1[mut_point_c1]\n",
    "        child1[mut_point_c1] = child1[mut_point_c2]\n",
    "        child1[mut_point_c2] = temp\n",
    "        \n",
    "        temp = child2[mut_point_c1]\n",
    "        child2[mut_point_c1] = child2[mut_point_c2]\n",
    "        child2[mut_point_c2] = temp\n",
    "    \n",
    "    #Evaluacion de los hijos\n",
    "    eval_child1 = funcion_aptitud(child1, x, y)\n",
    "    eval_child2 = funcion_aptitud(child2, x, y)\n",
    "    \n",
    "    #Inserción: reemplazo de padres\n",
    "    if(eval_child1 > fa[p1_index]):\n",
    "        p[p1_index] = child1\n",
    "        fa[p1_index] = eval_child1\n",
    "    \n",
    "    if(eval_child2 > fa[p2_index]):\n",
    "        p[p2_index] = child2\n",
    "        fa[p2_index] = eval_child2\n",
    "    "
   ]
  },
  {
   "cell_type": "markdown",
   "metadata": {},
   "source": [
    "## 2.5. Mostrar mejor individuo al final del ciclo"
   ]
  },
  {
   "cell_type": "code",
   "execution_count": 6,
   "metadata": {},
   "outputs": [
    {
     "name": "stdout",
     "output_type": "stream",
     "text": [
      "La mejor ruta es:  [15 14 13 12 10 19  9  7  3  2  1  0  8  6  4  5 11 18 17 16]\n",
      "Con una función de aptitud de:  0.016826658361872197\n"
     ]
    }
   ],
   "source": [
    "print 'La mejor ruta es: ', p[np.argmax(fa)]\n",
    "print 'Con una función de aptitud de: ', fa[np.argmax(fa)]"
   ]
  },
  {
   "cell_type": "code",
   "execution_count": 7,
   "metadata": {},
   "outputs": [
    {
     "data": {
      "image/png": "[encoded data removed]",
      "text/plain": [
       "<Figure size 432x288 with 1 Axes>"
      ]
     },
     "metadata": {},
     "output_type": "display_data"
    }
   ],
   "source": [
    "'''\n",
    "plot solution\n",
    "'''\n",
    "best_path = p[np.argmax(fa)]\n",
    "plt.plot(x, y, 'r*')#paths\n",
    "plt.plot(x[best_path], y[best_path], 'b')#paths\n",
    "plt.show() "
   ]
  },
  {
   "cell_type": "markdown",
   "metadata": {},
   "source": [
    "## Punto 3\n",
    "\n",
    "Determinar los valores de x1, x2, …, x10 de tal forma que la siguiente función se maximice:\n",
    "<br>\n",
    "F(x1,x2,..,x10)= (x1*x2*x3*x4*x5)/(x6*x7*x8*x9*x10)  donde x1,..,x10=[1 ... 10] "
   ]
  },
  {
   "cell_type": "markdown",
   "metadata": {},
   "source": [
    "<hr>\n",
    "### 3.1.2. Inicializar parámetros del algoritmo genético"
   ]
  },
  {
   "cell_type": "code",
   "execution_count": 83,
   "metadata": {},
   "outputs": [],
   "source": [
    "#GA parameters\n",
    "ni = 1000 #number of iterations\n",
    "nc = 100 #number of individuals\n",
    "ng = 10 #number of genes == variable x\n",
    "\n",
    "pc = 0.9\n",
    "pm = 0.5\n",
    "alpha = 0.5 #cross percentage for arithmetic cross\n",
    "\n",
    "#search range\n",
    "a = 1\n",
    "b = 10"
   ]
  },
  {
   "cell_type": "markdown",
   "metadata": {},
   "source": [
    "<hr>\n",
    "### 3.1.1 Funcion de aptitud"
   ]
  },
  {
   "cell_type": "code",
   "execution_count": 84,
   "metadata": {},
   "outputs": [],
   "source": [
    "def evalreal(x):\n",
    "    return (x[0]*x[1]*x[2]*x[3]*x[4])/(x[5]*x[6]*x[7]*x[8]*x[9])"
   ]
  },
  {
   "cell_type": "code",
   "execution_count": 91,
   "metadata": {},
   "outputs": [
    {
     "data": {
      "image/png": "[encoded data removed]",
      "text/plain": [
       "<Figure size 432x288 with 1 Axes>"
      ]
     },
     "metadata": {},
     "output_type": "display_data"
    }
   ],
   "source": [
    "x = np.round(np.random.random([ng, ng])*100)\n",
    "x1 = np.array(range(1,ng+1))\n",
    "y = np.zeros([ng])\n",
    "for i in range(ng):\n",
    "    y[i] = evalreal(x[i])\n",
    "plt.plot(x1,y, 'r*')\n",
    "plt.plot(x1,y, linestyle='--', color='b')\n",
    "plt.show()"
   ]
  },
  {
   "cell_type": "markdown",
   "metadata": {},
   "source": [
    "### 3.1.3. Inicializar población (p) y calcular la aptitud (fa) de sus individuos"
   ]
  },
  {
   "cell_type": "code",
   "execution_count": 47,
   "metadata": {},
   "outputs": [
    {
     "name": "stdout",
     "output_type": "stream",
     "text": [
      "[[3.88373072 1.12013972 4.01639891 3.43195359 6.15070532 6.07650411\n",
      "  3.80518728 5.21711212 2.33341781 6.23915138]\n",
      " [7.97531971 7.7704244  3.3761699  7.29316079 4.70368611 6.39417041\n",
      "  5.05209053 2.09629814 2.52770061 6.27140241]\n",
      " [8.61989493 7.71790578 1.85515639 4.02991536 8.67096666 9.06370508\n",
      "  7.07071148 6.12937362 9.94457397 7.94413648]\n",
      " [3.184051   6.61815203 3.41792397 4.93202188 2.88668364 5.19292071\n",
      "  6.00421077 5.07476996 3.44667933 7.16603091]\n",
      " [9.41005846 7.4431574  1.01825592 7.19762374 4.98633488 1.13575777\n",
      "  4.36779932 7.95284786 4.90869363 4.00694519]\n",
      " [9.37388147 1.01429875 2.51136294 6.29995844 4.35001035 5.22792141\n",
      "  6.86383906 1.56774335 3.97786767 8.88955536]\n",
      " [3.88649286 9.91436105 6.4465814  9.19443507 9.80077103 1.63080872\n",
      "  7.12833079 6.04261509 6.96660546 7.26823908]\n",
      " [1.26020448 4.07258574 2.58952725 7.37791692 7.78195055 5.250607\n",
      "  9.08178883 4.63275352 4.93708009 5.71031677]\n",
      " [8.42813108 3.33998109 1.85263489 1.89237932 3.35562976 8.9289248\n",
      "  5.7395313  1.07772607 1.82022102 9.22973525]\n",
      " [7.93138615 9.39596125 8.4333424  3.86541099 7.04260924 4.34506033\n",
      "  7.11063084 8.4384476  4.71993855 3.87522942]\n",
      " [3.58814931 9.73959421 3.53376478 8.0381428  1.37508473 9.20125769\n",
      "  2.70800469 2.41518118 3.23560946 4.151606  ]\n",
      " [1.25618086 3.27359452 5.37750915 1.97239263 1.25762855 4.97160852\n",
      "  4.77628553 7.05090608 9.22810917 9.30886162]\n",
      " [7.53365361 9.16208876 3.12263654 3.80613888 7.01340736 4.7937414\n",
      "  2.60937366 6.0056849  5.56964313 2.56321668]\n",
      " [7.39071452 6.71643791 7.01565048 6.11923364 4.71629815 8.33688165\n",
      "  3.50615815 8.42404715 1.78942409 6.60272729]\n",
      " [9.252387   4.34836835 5.49957133 4.95036525 2.9476028  8.01764314\n",
      "  7.6290374  1.21179707 2.40963094 9.96461969]\n",
      " [9.19191738 6.08423196 4.7420787  3.60398284 4.36788056 1.18067858\n",
      "  1.41630427 4.57912606 2.60149511 6.07632635]\n",
      " [7.01923922 6.55479968 7.45194611 8.34907732 9.19758402 6.98655234\n",
      "  7.72522948 2.85717627 7.622489   9.33044465]\n",
      " [5.96147158 2.17140764 4.90034971 8.74035223 5.69352093 6.99311177\n",
      "  9.58602682 4.81611416 7.18871804 2.57539284]\n",
      " [5.5738161  6.48183644 7.70397954 2.11315801 8.66373511 3.6216808\n",
      "  3.17779388 2.69968666 5.51557839 9.48527902]\n",
      " [1.72096087 3.35291885 1.12537118 3.45725083 5.71044574 5.8404806\n",
      "  8.45429846 5.20151006 6.77069697 1.88842732]\n",
      " [6.51981641 7.5961773  6.54515338 1.69830035 8.32925462 5.43159687\n",
      "  6.74289944 4.06045131 7.88443909 1.71898095]\n",
      " [6.42057491 3.1658067  7.23319037 3.78917483 3.0948634  7.88588399\n",
      "  3.06336395 5.61705326 3.38866611 1.88772379]\n",
      " [6.33381177 7.51145903 2.13624791 4.05178973 3.8888836  1.88267974\n",
      "  6.17304494 2.99371007 6.52077624 8.36935419]\n",
      " [4.1906283  6.08553959 9.80554823 5.64301828 6.20820969 6.44610584\n",
      "  5.35195175 6.97455597 9.08339168 2.179717  ]\n",
      " [4.6638787  9.81284489 6.95576799 2.16340169 6.84314946 3.87096665\n",
      "  7.84026354 9.44477434 2.19750782 8.35600246]\n",
      " [1.54903546 9.00795847 8.98027273 9.527008   6.53450416 3.91628819\n",
      "  2.56146845 6.41845934 2.16786835 8.00829298]\n",
      " [9.79146277 6.12315312 8.8392827  9.39309372 8.93336355 6.38979108\n",
      "  5.04179203 6.29147159 2.83994647 3.35473753]\n",
      " [9.16263185 9.36143882 6.24502861 7.87088258 7.75856121 5.09253083\n",
      "  7.93941216 6.19200625 4.43758422 2.60052997]\n",
      " [9.38501113 4.21418766 9.00455164 9.46815247 2.71606218 4.39330126\n",
      "  9.56158904 8.6125362  9.81874443 7.76724772]\n",
      " [5.05796177 2.61160303 1.11590002 4.92762531 6.11530221 4.51667082\n",
      "  7.22649726 8.24527698 3.37011393 3.66928923]\n",
      " [5.91484381 3.64323812 3.29325782 7.09312211 4.89838918 7.87652902\n",
      "  9.043496   9.80894294 5.34313875 1.73961665]\n",
      " [7.74451215 5.39717533 9.40810138 4.77205886 3.5887154  6.72689164\n",
      "  7.83429597 6.37966444 1.47611092 6.98863423]\n",
      " [2.88584053 8.53966322 7.36490548 3.60306901 7.0503139  3.39940961\n",
      "  4.41953099 5.75617213 6.17452363 2.85522532]\n",
      " [1.81387685 9.62798007 3.00015586 9.38329526 7.54405918 9.88715387\n",
      "  7.50092344 2.90177149 7.65894824 7.46720024]\n",
      " [8.80927858 4.20317352 1.54185604 7.50390422 2.69534833 1.21678453\n",
      "  5.69740162 7.29924303 8.75331409 9.21846289]\n",
      " [8.13606052 1.24038537 1.52261111 3.51150033 3.48461988 6.80316298\n",
      "  8.63811267 6.33039944 4.64558408 5.38279975]\n",
      " [9.26951237 7.03332699 5.71509545 1.16118248 2.65457276 8.97370431\n",
      "  1.18297128 2.49765773 4.11234848 5.89085566]\n",
      " [1.12821167 5.63182512 5.8204287  2.97677265 4.8988651  2.65668604\n",
      "  7.38903986 9.58191443 7.52682259 5.81553549]\n",
      " [1.72985278 7.53898923 4.37689686 6.26501247 9.29528536 2.20891753\n",
      "  7.72517069 5.73018626 5.7136856  8.16786194]\n",
      " [9.53575828 2.83475459 2.15344402 3.0844369  8.21268213 7.01304132\n",
      "  5.19884203 2.99270957 8.21926351 3.20975634]\n",
      " [8.17647085 5.11525153 4.65842104 7.13874237 2.23512054 3.6679808\n",
      "  6.73181293 9.6404242  2.44007963 4.35841968]\n",
      " [1.97482383 2.86690969 3.10514989 6.64585191 2.51310577 1.31327263\n",
      "  8.23324781 4.81157259 4.19220126 7.90444067]\n",
      " [5.15974426 6.15483694 7.31948677 9.02735305 9.09916321 1.63957118\n",
      "  7.54894431 5.12950082 2.1462171  6.35483157]\n",
      " [5.87210873 7.41486037 4.65921164 7.64622597 9.06500231 9.42078183\n",
      "  5.57538275 9.46699986 2.97052692 5.65845234]\n",
      " [2.69696946 8.63240946 6.84586426 8.78316753 1.96227474 4.29043646\n",
      "  8.57009965 2.30400351 6.0450978  6.45861106]\n",
      " [9.26143    8.76198787 8.34194115 3.92553085 6.18715614 6.84383318\n",
      "  4.60597807 8.64214774 7.50211714 9.77677144]\n",
      " [6.21758363 5.45984956 5.81011096 8.05649672 9.47387945 7.69816489\n",
      "  7.49388596 7.39163045 7.83919828 6.2501019 ]\n",
      " [3.57397843 7.0645397  1.29329119 5.95581489 5.3920891  6.29097465\n",
      "  6.73476708 8.48451295 2.5866728  9.11237019]\n",
      " [1.06958656 4.57425801 9.57531568 2.85687319 8.09176454 9.49486115\n",
      "  6.75955495 7.05446649 7.57891711 8.34250318]\n",
      " [7.3566777  8.8618735  3.42571885 1.18754818 8.09077217 7.53221103\n",
      "  9.16758195 1.71817586 7.75379332 7.22810123]\n",
      " [6.40106149 7.55416349 9.91829734 9.45291857 9.20914973 5.75981601\n",
      "  7.55688496 1.30740597 3.57190461 3.06143184]\n",
      " [4.830773   1.61827504 7.89400796 5.99530153 5.90469957 1.18362721\n",
      "  9.18532057 8.77906224 6.86195007 8.4095424 ]\n",
      " [4.94225463 9.01911823 4.856721   7.41082718 8.23570285 9.34187483\n",
      "  8.87058836 6.84373484 6.44810426 5.69039812]\n",
      " [8.2409088  9.8915159  6.63392478 5.05671146 7.95620937 4.62502432\n",
      "  4.05543907 3.72682825 3.30147516 5.25839164]\n",
      " [8.27725369 8.64118132 3.70382431 6.55842082 6.64891782 8.54481098\n",
      "  3.00299289 2.03738817 3.8373671  3.22006727]\n",
      " [4.82061025 3.55835088 3.92102462 5.19661041 3.99860091 2.202113\n",
      "  6.55726609 2.28592552 4.02063866 9.2771443 ]\n",
      " [9.83145613 7.00257061 7.92991933 1.07328393 8.24787628 6.32893244\n",
      "  1.31928555 8.60870473 8.05311859 2.92123604]\n",
      " [9.31509917 8.68485987 5.43968252 5.84571475 3.30560138 7.42905027\n",
      "  5.09272102 6.07242878 4.60208476 1.46102757]\n",
      " [6.03721316 4.96299342 4.26266618 1.52156797 3.19281509 1.72504661\n",
      "  7.62740599 3.73333624 5.61149914 4.05790445]\n",
      " [4.5177368  4.72676526 4.43143659 8.70373804 7.38924869 1.90761025\n",
      "  5.61853573 8.20695403 6.90676321 7.92687995]\n",
      " [7.82838093 4.5900483  6.83014253 6.05527757 7.68530828 3.50812203\n",
      "  2.60361381 4.97868066 7.93237772 8.94479374]\n",
      " [3.1909641  1.95382543 1.31680744 7.60042094 1.08526519 1.99291951\n",
      "  3.88728385 6.50618514 8.14197543 9.39516199]\n",
      " [1.933937   2.96034523 7.38522466 2.98123121 5.46096743 1.62049376\n",
      "  3.86283226 6.51139062 8.1232386  1.41054257]\n",
      " [4.44896223 7.93340426 2.30372769 6.16906615 2.16899906 5.99470123\n",
      "  7.82940362 6.81198006 5.49260232 7.98043955]\n",
      " [6.18554572 8.79046262 7.51339348 2.88299932 8.64479087 6.87909398\n",
      "  8.27130182 2.73499    3.9168092  5.05516207]\n",
      " [3.49131255 2.92847539 9.06696955 4.34731474 8.5893434  5.70883967\n",
      "  9.02382487 2.77054178 4.64845988 7.56367874]\n",
      " [7.63037766 9.79627512 6.27813273 9.15707084 6.79682995 8.42186925\n",
      "  9.63905404 7.99003666 5.0706505  8.23205294]\n",
      " [2.20824726 7.32210389 2.04075643 9.11805842 8.86636262 3.24446513\n",
      "  2.82250938 4.00789706 6.32238648 8.66232897]\n",
      " [8.57507077 6.88494798 8.21985149 7.75699093 9.48281286 5.75132001\n",
      "  2.07601028 8.05857901 6.17281647 3.32402872]\n",
      " [2.40291145 8.84502535 8.34486819 4.46389993 2.56698729 7.26442414\n",
      "  1.89509259 7.34642083 4.63594749 1.34360287]\n",
      " [8.60904095 6.63416286 6.25914064 3.19410914 6.24882926 6.8219728\n",
      "  1.76094243 3.11074239 8.20411265 2.01801433]\n",
      " [9.69993768 4.1626066  6.62893883 5.9442829  1.91596048 7.27862195\n",
      "  1.17548703 6.63610018 6.65841295 9.43213544]\n",
      " [3.274635   3.30231259 4.58120081 2.76796563 4.66984251 7.04722417\n",
      "  8.32314125 7.34516871 4.51232004 4.1675242 ]\n",
      " [1.1495083  3.91063457 6.25217193 1.69353804 7.46012839 3.26085042\n",
      "  6.57843754 4.78625419 6.81929709 4.56068571]\n",
      " [9.18385222 9.18243848 7.31515168 3.49439729 6.30488617 1.7530959\n",
      "  8.58095007 8.10708211 1.2432461  7.3273998 ]\n",
      " [8.08475949 9.55715707 6.40074955 7.72996362 3.57877951 2.14676413\n",
      "  2.20472539 9.89668323 1.13557885 6.02620598]\n",
      " [6.5273081  3.15111914 3.63732541 2.56072459 2.53619678 6.4607305\n",
      "  1.48203609 6.64189994 4.52581236 9.55736027]\n",
      " [8.65485826 3.99122134 6.21831932 2.08567751 8.80622532 2.38446705\n",
      "  8.2516357  4.41874647 5.77937572 3.8912714 ]\n",
      " [1.72222804 5.54674898 8.7218582  9.81273759 9.80809755 2.54257807\n",
      "  5.88078964 6.08860702 3.96019324 4.96410487]\n",
      " [2.19206093 1.02705704 1.09708151 7.14788169 3.80311181 7.83145936\n",
      "  7.57340901 4.50130895 6.75124316 6.59352258]\n",
      " [8.22127352 3.87028184 1.40266663 5.31903156 8.1170734  6.27042855\n",
      "  5.6760934  7.15811112 5.95387609 6.71838209]\n",
      " [1.17439067 1.35895841 2.07546611 8.03241011 5.64634341 8.84256459\n",
      "  4.67540242 8.87309336 5.46140324 6.76846317]\n",
      " [1.73485971 9.49602675 6.42692569 8.39918164 4.02216639 2.56914996\n",
      "  1.12861258 2.52173965 2.08841536 5.53659555]\n",
      " [2.16299798 4.31016796 8.66596832 1.11033634 2.57415692 6.79850475\n",
      "  1.45439948 2.89680618 3.11573676 3.12123434]\n",
      " [3.59963504 2.86340026 6.69539585 9.25232366 5.14810974 2.33188969\n",
      "  4.41819121 8.4111164  8.18931298 9.99576205]\n",
      " [1.89773454 7.9150563  8.8889798  3.95022158 9.48454848 5.09376425\n",
      "  4.85018577 2.06098721 6.85325637 8.88841553]\n",
      " [6.61256198 4.7406309  9.48048636 5.77963905 3.40150729 5.81087118\n",
      "  6.83019695 1.56832719 7.02775647 2.05221012]\n",
      " [6.46714858 2.94181693 4.54072994 2.41878718 7.20695852 4.37309946\n",
      "  7.46483942 6.43638187 8.50128272 9.71650795]\n",
      " [3.79775845 4.09660045 2.21617871 7.15620676 1.68359664 4.47321224\n",
      "  1.45457497 4.62956037 8.74248396 4.24491846]\n",
      " [2.24703059 4.22199521 8.09409067 3.37048472 1.61566058 8.64596624\n",
      "  4.88411529 8.70905073 3.47445014 4.05008684]\n",
      " [5.85595166 7.93994403 6.62812171 8.10077469 9.86263162 4.96679907\n",
      "  3.45568946 4.90123771 3.61238875 8.45727344]\n",
      " [9.3629063  9.67702218 2.57647672 1.33441052 7.34697904 2.79881849\n",
      "  2.61162619 3.89646033 7.72668847 1.6236417 ]\n",
      " [4.22343847 2.14014257 3.54049676 2.91679662 4.48263892 5.33242499\n",
      "  3.28686888 1.09834858 2.18677116 2.1882234 ]\n",
      " [5.78990408 7.46290143 3.97947315 3.0790328  4.30329905 9.42315074\n",
      "  8.59252344 2.30369432 9.20584573 9.22743031]\n",
      " [8.11245171 5.28490015 5.55471678 8.51240195 2.48125814 2.50218993\n",
      "  4.34395365 8.48887729 1.74234503 4.85339408]\n",
      " [4.67231734 3.4519536  6.68235119 1.67873168 6.76219502 3.89846933\n",
      "  1.22710646 6.5255503  4.51003302 3.04408656]\n",
      " [9.28270578 4.34571121 5.13878856 2.69458025 9.00425933 9.24773535\n",
      "  2.33540699 8.73721887 4.15331386 3.21717512]\n",
      " [2.78611875 7.73903577 8.65620531 4.55551182 4.32705171 1.37229532\n",
      "  4.04072088 1.00255336 7.22682643 4.14957233]\n",
      " [1.44111352 1.59700847 6.70995646 8.98359675 8.81291938 2.62609592\n",
      "  4.18557248 5.58617377 6.63919885 1.63973453]\n",
      " [6.15047546 9.18987133 7.02851636 3.38810888 8.3986018  5.46007078\n",
      "  1.54203161 7.47410788 9.76269327 2.60100499]]\n"
     ]
    }
   ],
   "source": [
    "p = np.random.rand(nc, ng)\n",
    "p = (b-a)*p + a\n",
    "fa = np.zeros([nc], dtype=np.float) #vector de aptitudes\n",
    "\n",
    "for i in range(nc):\n",
    "    fa[i] = evalreal(p[i]) #funcion de aptitud\n",
    "\n",
    "print p"
   ]
  },
  {
   "cell_type": "markdown",
   "metadata": {},
   "source": [
    "### 3.1.4. Ciclo principal del algoritmo genético:\n",
    "Seleccion->Cruce->Mutación->Evaluación->Inserción"
   ]
  },
  {
   "cell_type": "code",
   "execution_count": 49,
   "metadata": {},
   "outputs": [],
   "source": [
    "for i in range(ni):\n",
    "    #selection: simple - random\n",
    "    p1_index = np.random.randint(nc)\n",
    "    p2_index = np.random.randint(nc)\n",
    "    p1 = p[p1_index]\n",
    "    p2 = p[p2_index]\n",
    "    \n",
    "    #cross\n",
    "    if(np.random.rand() <= pc):\n",
    "        child1 = alpha*p1+(1-alpha)*p2\n",
    "        child2 = alpha*p2+(1-alpha)*p1\n",
    "    \n",
    "    #evaluation\n",
    "    eval_child1 = evalreal(child1)\n",
    "    eval_child2 = evalreal(child2)\n",
    "    \n",
    "    #insertion\n",
    "    if(eval_child1 < fa[p1_index]):\n",
    "        p[p1_index] = child1\n",
    "        fa[p1_index] = eval_child1\n",
    "    \n",
    "    if(eval_child2 < fa[p2_index]):\n",
    "        p[p2_index] = child2\n",
    "        fa[p2_index] = eval_child2"
   ]
  },
  {
   "cell_type": "markdown",
   "metadata": {},
   "source": [
    "### 3.1.5. Mostrar mejor individuo al final del ciclo"
   ]
  },
  {
   "cell_type": "code",
   "execution_count": 79,
   "metadata": {},
   "outputs": [
    {
     "name": "stdout",
     "output_type": "stream",
     "text": [
      "El valor de [x1, x2, ... x10] que maximizan la función es:  [1.98796998]\n",
      "Con una función de aptitud de:  [31.9471111]\n"
     ]
    }
   ],
   "source": [
    "print 'El valor de [x1, x2, ... x10] que maximizan la función es: ', p[np.argmax(fa)]\n",
    "print 'Con una función de aptitud de: ', fa[np.argmax(fa)]"
   ]
  },
  {
   "cell_type": "markdown",
   "metadata": {},
   "source": [
    "<hr>\n",
    "# 3.2 Problema de minimización de una función real (representación flotante)"
   ]
  },
  {
   "cell_type": "code",
   "execution_count": 61,
   "metadata": {},
   "outputs": [
    {
     "data": {
      "image/png": "[encoded data removed]",
      "text/plain": [
       "<Figure size 432x288 with 1 Axes>"
      ]
     },
     "metadata": {},
     "output_type": "display_data"
    }
   ],
   "source": [
    "x = np.linspace(-10,10,num=50)\n",
    "y = ((x**4) - (12*(x**3)) + (15*(x**2)) + (56*x) - 60)\n",
    "plt.plot(x,y)\n",
    "plt.show()"
   ]
  },
  {
   "cell_type": "markdown",
   "metadata": {},
   "source": [
    "### 3.2.1. Funcion de aptitud"
   ]
  },
  {
   "cell_type": "code",
   "execution_count": 62,
   "metadata": {},
   "outputs": [],
   "source": [
    "def evalreal(x):\n",
    "    return ((x**4) - (12*(x**3)) + (15*(x**2)) + (56*x) - 60)"
   ]
  },
  {
   "cell_type": "markdown",
   "metadata": {},
   "source": [
    "### 3.2.2 Inicializar parámetros del algoritmo genético"
   ]
  },
  {
   "cell_type": "code",
   "execution_count": 74,
   "metadata": {},
   "outputs": [],
   "source": [
    "#GA parameters\n",
    "ni = 1000 #number of iterations\n",
    "nc = 100 #number of individuals\n",
    "ng = 1 #number of genes == variable x\n",
    "\n",
    "pc = 0.9\n",
    "pm = 0.5\n",
    "alpha = 0.5 #cross percentage for arithmetic cross\n",
    "\n",
    "#search range\n",
    "a = 1\n",
    "b = 10"
   ]
  },
  {
   "cell_type": "markdown",
   "metadata": {},
   "source": [
    "### 3.2.3 Inicializar población (p) y calcular la aptitud (fa) de sus individuos"
   ]
  },
  {
   "cell_type": "code",
   "execution_count": 75,
   "metadata": {},
   "outputs": [],
   "source": [
    "#initial population\n",
    "p = np.random.rand(nc,ng)\n",
    "p = (b-a)*p + a \n",
    "\n",
    "#initial population evaluation using evalreal\n",
    "fa = evalreal(p)"
   ]
  },
  {
   "cell_type": "markdown",
   "metadata": {},
   "source": [
    "### 3.2.4. Ciclo principal del algoritmo genético:\n",
    "Seleccion->Cruce->Mutación->Evaluación->Inserción"
   ]
  },
  {
   "cell_type": "code",
   "execution_count": 76,
   "metadata": {},
   "outputs": [],
   "source": [
    "for i in range(ni):\n",
    "    #selection: simple - random\n",
    "    #p1_index = np.random.randint(nc)\n",
    "    #p2_index = np.random.randint(nc)\n",
    "    #p1 = p[p1_index]\n",
    "    #p2 = p[p2_index]\n",
    "    \n",
    "    seleccionados = \n",
    "    \n",
    "    (2)\n",
    "    p1 = seleccionados[0]\n",
    "    p2 = seleccionados[1]\n",
    "    \n",
    "    #cross\n",
    "    if(np.random.rand() <= pc):\n",
    "        child1 = alpha*p1+(1-alpha)*p2\n",
    "        child2 = alpha*p2+(1-alpha)*p1\n",
    "    \n",
    "    #evaluation\n",
    "    eval_child1 = evalreal(child1)\n",
    "    eval_child2 = evalreal(child2)\n",
    "    \n",
    "    #insertion\n",
    "    if(eval_child1 < fa[p1_index]):\n",
    "        p[p1_index] = child1\n",
    "        fa[p1_index] = eval_child1\n",
    "    \n",
    "    if(eval_child2 < fa[p2_index]):\n",
    "        p[p2_index] = child2\n",
    "        fa[p2_index] = eval_child2"
   ]
  },
  {
   "cell_type": "markdown",
   "metadata": {},
   "source": [
    "### 3.2.5. Mostrar mejor individuo al final del ciclo"
   ]
  },
  {
   "cell_type": "code",
   "execution_count": 77,
   "metadata": {},
   "outputs": [
    {
     "name": "stdout",
     "output_type": "stream",
     "text": [
      "El valor de x que minimiza la función es:  [7.7111235]\n",
      "Con una función de aptitud de:  [-702.76731965]\n"
     ]
    }
   ],
   "source": [
    "print 'El valor de x que minimiza la función es: ', p[np.argmin(fa)]\n",
    "print 'Con una función de aptitud de: ', fa[np.argmin(fa)]"
   ]
  },
  {
   "cell_type": "code",
   "execution_count": 78,
   "metadata": {},
   "outputs": [
    {
     "data": {
      "image/png": "[encoded data removed]",
      "text/plain": [
       "<Figure size 432x288 with 1 Axes>"
      ]
     },
     "metadata": {},
     "output_type": "display_data"
    }
   ],
   "source": [
    "x = np.linspace(-10,10,num=50)\n",
    "y = evalreal(x)\n",
    "\n",
    "#print 'El valor x que minimiza la aptitud'\n",
    "\n",
    "import matplotlib.pyplot as plt\n",
    "plt.plot(x,y)\n",
    "plt.plot(p[np.argmin(fa)], fa[np.argmin(fa)], 'r*')\n",
    "plt.show()"
   ]
  },
  {
   "cell_type": "markdown",
   "metadata": {},
   "source": [
    "## Conclusiones\n",
    "\n",
    "#### Podemos concluir que en cada uno de los puntos, utilizando el método random vs ruleta, en promedio el nivel de convergencia utilizando el método ruleta es mucho mas rápido ya que en algunos casos se converge directamente a la solucion desde la primera iteración, podemos observar en las siguientes imágenes la comparación de la convergencia de ruleta y de random que en la mayoría (por no decir que todas) de los casos tiene una convergencia mas lineal al resultado que la del random"
   ]
  },
  {
   "cell_type": "markdown",
   "metadata": {},
   "source": [
    "#### Convergencia 1. <img src=\"images/convergencia1.png\" />\n",
    "#### Convergencia 2. <img src=\"images/convergencia2.png\" />\n",
    "#### Convergencia 3. <img src=\"images/convergencia3.png\" />"
   ]
  },
  {
   "cell_type": "markdown",
   "metadata": {},
   "source": [
    "#### En las gráficas podemos observar la función de aptitud del mejor individuo de cada iteración del ciclo y podemos ver como en la función random la convergencia es menor a la convergencia de la ruleta, es decir, que la random toma mas iteraciones para comenzar a converger al resultado del ejercicio comparado junto a la ruleta, que con unas pocas iteraciones empieza a converger al resultado.\n",
    "#### Nota: Las gráficas anteriores se generaron del siguiente problema.\n",
    "<img src=\"images/problema1.1.4.png\" />\n"
   ]
  },
  {
   "cell_type": "markdown",
   "metadata": {},
   "source": [
    "#### También se puede observar con las gráficas que en promedio con el método ruleta se obtiene una mejor solución de forma repetida, caso contrario a la selección aleatoria, que en algunos casos puede o no se r mas efectivo.\n",
    "\n",
    "#### Como conclusión general se puede decir que la efectividad del algoritmo genético, depende mucho del método de selección que se utilice en el problema que se esté solucionando, ya que, se obtienen resultados mas efectivos, como por ejemplo los mostrados en las gráficas anteriores, que se puede ver implementando la selección ruleta se converge mas rápido a la solución"
   ]
  },
  {
   "cell_type": "code",
   "execution_count": null,
   "metadata": {},
   "outputs": [],
   "source": []
  }
 ],
 "metadata": {
  "kernelspec": {
   "display_name": "Python 2",
   "language": "python",
   "name": "python2"
  },
  "language_info": {
   "codemirror_mode": {
    "name": "ipython",
    "version": 2
   },
   "file_extension": ".py",
   "mimetype": "text/x-python",
   "name": "python",
   "nbconvert_exporter": "python",
   "pygments_lexer": "ipython2",
   "version": "2.7.15"
  }
 },
 "nbformat": 4,
 "nbformat_minor": 2
}
