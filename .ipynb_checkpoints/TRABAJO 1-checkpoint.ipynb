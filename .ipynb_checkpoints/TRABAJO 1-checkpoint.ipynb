{
 "cells": [
  {
   "cell_type": "markdown",
   "metadata": {},
   "source": [
    "<hr>\n",
    "## Trabajo No. 1\n",
    "### **Sobre**:  Solución de problemas mediante búsqueda - Búsqueda no-informada.\n",
    "\n",
    "- **Integrantes**: Cristian Yepes Sanchez, Edison Escobar Posada\n"
   ]
  },
  {
   "cell_type": "markdown",
   "metadata": {},
   "source": [
    "<hr>\n",
    "<h3>Problema 1</h3>\n",
    "1. **Imagen del problema**\n",
    "<img src=\"images/img_problema1.jpeg\" width=\"700px\" />\n",
    "\n",
    "2. **Formulación del problema:**<br>\n",
    "I= 1, O= 13 <br>\n",
    "Función de sucesión <br>\n",
    "function sucesion(nodo){ <br>\n",
    " &ensp; lista = []; <br>\n",
    " &ensp; lista.push(2*(nodo)); <br>\n",
    " &ensp; lista.push(2*(nodo)+1); <br>\n",
    " &ensp; return lista; <br>\n",
    "} <br>\n",
    "\n",
    "3. **Búsquedas:** <br>\n",
    "•**BFS** <br>\n",
    "L = L + I = [<strike>1</strike>] <br>\n",
    "L = L + S(1) = [<strike>2</strike>,3] <br>\n",
    "L = L + S(2) = [<strike>3</strike>,4,5] <br>\n",
    "L = L + S(3) = [<strike>4</strike>,5,6,7] <br>\n",
    "L = L + S(4) = [<strike>5</strike>,6,7,8,9] <br>\n",
    "L = L + S(5) = [<strike>6</strike>,6,7,8,9,10,11] <br>\n",
    "L = L + S(6) = [<strike>7</strike>,8,9,10,11,12,13] <br>\n",
    "L = L + S(7) = [<strike>8</strike>,9,10,11,12,13,14,15] <br>\n",
    "L = L + S(8) = [<strike>9</strike>,10,11,12,13,14,15] <br>\n",
    "L = L + S(9) = [<strike>10</strike>,11,12,13,14,15] <br>\n",
    "L = L + S(10) = [<strike>11</strike>,12,13,14,15] <br>\n",
    "L = L + S(11) = [<strike>12</strike>,13,14,15] <br>\n",
    "L = L + S(12) = [<strike>13</strike>,14,15] <br>\n",
    "**Listado de nodos visitados:**<br>\n",
    "1 -> 2 -> 3 -> 4 -> 5 -> 6 -> 7 -> 8 -> 9 -> 10 -> 11 -> 12 -> 13 <br>\n",
    "\n",
    "•**DLS** <br>\n",
    "**Listado de nodos visitados:** <br>\n",
    "1 -> 2 -> 4 -> 8 -> 9 -> 10 -> 11 -> 3 -> 6 -> 12 -> 13 <br>\n",
    "\n",
    "•**IDS** <br>\n",
    "**Listado de nodos visitados:** <br>\n",
    "1 -> 2 -> 4 -> 8 -> 9 -> 10 -> 11 -> 3 -> 6 -> 12 -> 13 <br>\n",
    "   \n",
    "•**Algoritmo propuesto:** <br>\n",
    "      function search(I, O){ <br>\n",
    "         &ensp; var num = O; <br>\n",
    "         &ensp; var lista = []; <br>\n",
    "         &ensp; var mov = []; <br>\n",
    "         &ensp; lista.push(num); <br>\n",
    "         &ensp; while(I != num){ <br>\n",
    "            &ensp;&ensp; var num = Math.trunc(num/2);<br>\n",
    "            &ensp;&ensp; lista.push(parseInt(num)); <br>\n",
    "         &ensp; } <br>\n",
    "         &ensp; lista.sort(function(a, b){return a - b});<br>\n",
    "         &ensp; for(var j in lista){ <br> \n",
    "            &ensp;&ensp; if(lista[j] != I){ <br>\n",
    "               &ensp;&ensp; if(lista[j]%2 == 0){ <br>\n",
    "                  &ensp;&ensp;&ensp; mov.push(\"LEFT\"); <br>\n",
    "                  &ensp;&ensp; }else{ <br>\n",
    "                  &ensp;&ensp;&ensp;mov.push(\"RIGHT\"); <br>\n",
    "               &ensp;&ensp; } <br> \n",
    "            &ensp;} <br>\n",
    "            &ensp;} <br>\n",
    "            &ensp;console.log(mov);<br>\n",
    "      }<br>\n",
    "<img src=\"images/img_algoritmo.jpeg\" />"
   ]
  },
  {
   "cell_type": "code",
   "execution_count": 37,
   "metadata": {},
   "outputs": [
    {
     "name": "stdout",
     "output_type": "stream",
     "text": [
      "[1, 2, 5, 11, 22]\n",
      "['LEFT', 'RIGHT', 'RIGHT', 'LEFT']\n"
     ]
    }
   ],
   "source": [
    "def sucesion(I, O):\n",
    "    \n",
    "    num = int(O)    \n",
    "    lista = []\n",
    "    listaMov = []\n",
    "    lista.append(num)\n",
    "    while(I != num):\n",
    "        num = num//2\n",
    "        lista.append(num)\n",
    "    listaAux = sorted(lista)\n",
    "    print listaAux\n",
    "    for nodo in listaAux:        \n",
    "        if nodo != I:\n",
    "            if nodo%2 == 0:\n",
    "                listaMov.append(\"LEFT\")\n",
    "            else:\n",
    "                listaMov.append(\"RIGHT\")\n",
    "    print listaMov\n",
    "\n",
    "sucesion(1,22)\n",
    "        "
   ]
  },
  {
   "cell_type": "markdown",
   "metadata": {},
   "source": [
    "<hr>\n",
    "### Problema 2\n",
    "\n",
    "1. ¿Cuántos estados tendría ese espacio?. <br>\n",
    "    **R// El espacio tendria infinitos estados, ya que cada posición (x,y) es un estado y estas posiciones puedes ser infinitas.** <br>\n",
    "    ¿Cuántas soluciones tendría el problema?. <br>\n",
    "    **R// Pueden haber infinitas soluciones.**\n",
    "2. Con la condición do que los vértices de 2 polígonos sea una línea recta, podemos descartar que entre esos 2 vértices haya polígonos u obstáculos de por medio. <br>\n",
    "A partir del razonamiento anterior se tiene que el número de estados del espacio son el estado inicial, estado final y el n número de vértices de los polígonos dentro del espacio, para este ejemplo el número de estados es 35.\n",
    "3. **Formulación del problema:**\n",
    "    - **Estado inicial:** (Ix,Iy)\n",
    "    - **Estado Final u Objetivo:** (Ox,Oy)\n",
    "    - **Función de sucesión:** Esta función recibira por parametro un punto (x,y) y apartir de este punto nos retornara un arreglo con los puntos (x,y) a los que este punto puede llegar atravez una linea recta sin obstaculo alguno.\n",
    "4. BFS para el problema planteado:\n",
    "<img src=\"images/img_poligonos.jpeg\" />"
   ]
  },
  {
   "cell_type": "markdown",
   "metadata": {},
   "source": [
    "<hr>\n",
    "### Problema 3\n",
    "\n",
    "1. **Formulac** <br>\n",
    "    **R// El espacio tendria infinitos estados, ya que cada posición (x,y) es un estado y estas posiciones puedes ser infinitas.** <br>\n",
    "    ¿Cuántas soluciones tendría el problema?. <br>\n",
    "    **R// Pueden haber infinitas soluciones.**\n",
    "2. Con la condición do que los vértices de 2 polígonos sea una línea recta, podemos descartar que entre esos 2 vértices haya polígonos u obstáculos de por medio. <br>\n",
    "A partir del razonamiento anterior se tiene que el número de estados del espacio son el estado inicial, estado final y el n número de vértices de los polígonos dentro del espacio, para este ejemplo el número de estados es 35.\n",
    "3. **Formulación del problema:**\n",
    "    - **Estado inicial:** (Ix,Iy)\n",
    "    - **Estado Final u Objetivo:** (Ox,Oy)\n",
    "    - **Función de sucesión:** Esta función recibira por parametro un punto (x,y) y apartir de este punto nos retornara un arreglo con los puntos (x,y) a los que este punto puede llegar atravez una linea recta sin obstaculo alguno.\n",
    "4. BFS para el problema planteado:\n",
    "<img src=\"images/img_poligonos.jpeg\" />"
   ]
  }
 ],
 "metadata": {
  "kernelspec": {
   "display_name": "Python 2",
   "language": "python",
   "name": "python2"
  },
  "language_info": {
   "codemirror_mode": {
    "name": "ipython",
    "version": 2
   },
   "file_extension": ".py",
   "mimetype": "text/x-python",
   "name": "python",
   "nbconvert_exporter": "python",
   "pygments_lexer": "ipython2",
   "version": "2.7.15"
  }
 },
 "nbformat": 4,
 "nbformat_minor": 2
}
