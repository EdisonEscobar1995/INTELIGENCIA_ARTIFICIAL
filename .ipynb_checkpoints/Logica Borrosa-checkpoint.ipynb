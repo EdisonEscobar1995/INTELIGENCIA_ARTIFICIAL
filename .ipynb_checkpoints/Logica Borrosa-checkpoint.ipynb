{
 "cells": [
  {
   "cell_type": "markdown",
   "metadata": {},
   "source": [
    "## Trabajo No. 3\n",
    "\n",
    "### Sobre: Lógica borrosa\n",
    "#### Integrantes: Cristian Yepes Sanchez, Edison Escobar Posada"
   ]
  },
  {
   "cell_type": "markdown",
   "metadata": {},
   "source": [
    "Para la solución del problema planteado, encontramos un Dataset público (https://www.kaggle.com/c/instacart-market-basket-analysis), este Dataset nos proporciona una amplia información sobre las compras de los productos para el hogar, productos para las mascotas entre otros productos. Con este Dataset se pretende extraer información que me permita deducir, si dos usuarios elegidos aleatoriamente, son similares o no, dependiendo de sus preferencias históricas de compras realizadas, en este caso en la plataforma de www.instacart.com\n",
    "\n",
    "## Explicación Dataset\n",
    "El Dataset que elegimos está compuesto por la siguiente información:\n",
    "### 1. ailes.\n",
    "Son los pasillos del supermercado en el cual se encuentra el producto, dentro de este encontramos un identificador único y el nombre del pasillo.\n",
    "### 2. departments.\n",
    "Este archivo son las clasificaciones de los productos, por ejemplo beberages, alcohol entre otros. En este podemos encontrar su identificador único y el nombre clasificatorio.\n",
    "### 3. products.\n",
    "Acá encontramos la información de los productos y esta se encuentra compuesta por el identificador único, nombre, en que pasillo se encuentra y como está clasificado el producto.\n",
    "### 4. orders.\n",
    "En esta encontraremos toda la información relacionada con las compras del usuario y está compuesta por el identificador único, el usuario, eval_set (nos dice si es anterior o actual la compra), número de la orden, hora de la compra y días desde la última compra.\n",
    "### 5. order_products_prior & order_products_train.\n",
    "Estos archivos son los que tienen la información combinada de las compras realizadas y está compuesta por el identificador de orders, el identificador del products, orden en que fue agregado al carrito de compras y si es primera vez en la compra de ese producto.\n",
    "<hr/>"
   ]
  },
  {
   "cell_type": "markdown",
   "metadata": {},
   "source": [
    "## Definición de características\n",
    "\n",
    "A partir de la información del Dataset que ya definimos anteriormente, definimos algunas características para cada usuario que nos van a servir para realizar la comparación de similitud entre ellos. Vamos a ver entonces algunas características generales respecto al usuario.\n",
    "\n",
    "### 1. Características personales.\n",
    "    Sexo, edad\n",
    "\n",
    "### 2. Características situacionales.\n",
    "    Fecha, hora, lugar o región\n",
    "\n",
    "### 3. Características de compras.\n",
    "    \n",
    "\n",
    "#### Nota:\n",
    "Cabe aclarar que a pesar de definir acá las características personales y situacionales, no serán tenidas en cuenta para los conjuntos difusos de este problema; también que las características definidas para estos usuarios son deducidas, ya que en el Dataset no nos proporciona información suficiente del usuario para tener características mas concretas.\n"
   ]
  },
  {
   "cell_type": "code",
   "execution_count": null,
   "metadata": {},
   "outputs": [],
   "source": []
  }
 ],
 "metadata": {
  "kernelspec": {
   "display_name": "Python 2",
   "language": "python",
   "name": "python2"
  },
  "language_info": {
   "codemirror_mode": {
    "name": "ipython",
    "version": 2
   },
   "file_extension": ".py",
   "mimetype": "text/x-python",
   "name": "python",
   "nbconvert_exporter": "python",
   "pygments_lexer": "ipython2",
   "version": "2.7.15"
  }
 },
 "nbformat": 4,
 "nbformat_minor": 2
}
