{
 "cells": [
  {
   "cell_type": "markdown",
   "metadata": {},
   "source": [
    "## Trabajo No. 3\n",
    "\n",
    "### Sobre: Lógica borrosa\n",
    "#### Integrantes: Cristian Yepes Sanchez, Edison Escobar Posada"
   ]
  },
  {
   "cell_type": "markdown",
   "metadata": {},
   "source": [
    "Para la solución del problema planteado, encontramos un Dataset público (https://www.kaggle.com/c/instacart-market-basket-analysis), este Dataset nos proporciona una amplia información sobre las compras de los productos para el hogar, productos para las mascotas entre otros productos. Con este Dataset se pretende extraer información que me permita deducir, si dos usuarios elegidos aleatoriamente, son similares o no, dependiendo de sus preferencias históricas de compras realizadas, en este caso en la plataforma de www.instacart.com\n",
    "\n",
    "Cabe aclarar que también se pueden alquilar o comprar otros Dataset ya sea la preferencia o necesidad del problema\n",
    "\n",
    "## Explicación Dataset\n",
    "El Dataset que elegimos está compuesto por la siguiente información:\n",
    "### 1. ailes.\n",
    "Son los pasillos del supermercado en el cual se encuentra el producto, dentro de este encontramos un identificador único y el nombre del pasillo.\n",
    "### 2. departments.\n",
    "Este archivo son las clasificaciones de los productos, por ejemplo beberages, alcohol entre otros. En este podemos encontrar su identificador único y el nombre clasificatorio.\n",
    "### 3. products.\n",
    "Acá encontramos la información de los productos y esta se encuentra compuesta por el identificador único, nombre, en que pasillo se encuentra y como está clasificado el producto.\n",
    "### 4. orders.\n",
    "En esta encontraremos toda la información relacionada con las compras del usuario y está compuesta por el identificador único, el usuario, eval_set (nos dice si es anterior o actual la compra), número de la orden, hora de la compra y días desde la última compra.\n",
    "### 5. order_products_prior & order_products_train.\n",
    "Estos archivos son los que tienen la información combinada de las compras realizadas y está compuesta por el identificador de orders, el identificador del products, orden en que fue agregado al carrito de compras y si es primera vez en la compra de ese producto.\n",
    "<hr/>"
   ]
  },
  {
   "cell_type": "markdown",
   "metadata": {},
   "source": [
    "## Definición de características\n",
    "\n",
    "A partir de la información del Dataset que ya definimos anteriormente, definimos algunas características para cada usuario que nos van a servir para realizar la comparación de similitud entre ellos. Vamos a ver entonces algunas características generales respecto al usuario.\n",
    "\n",
    "<table width=\"100%\">\n",
    "    <tr>\n",
    "        <th>Características personales</th>\n",
    "        <th>Características situacionales</th>\n",
    "        <th>Características de compras</th>\n",
    "    </tr>\n",
    "    <tr>\n",
    "        <td>Sexo</td>\n",
    "        <td>Fecha y Hora</td>\n",
    "        <td>Clasificación/Categoría</td>\n",
    "    </tr>\n",
    "    <tr>\n",
    "        <td>Edad</td>\n",
    "        <td>Lugar o región</td>\n",
    "        <td>Forma de pago</td>\n",
    "    </tr>\n",
    "    <tr>\n",
    "        <td>Hobbies u ocupación</td>\n",
    "        <td>--</td>\n",
    "        <td>--</td>\n",
    "    </tr>    \n",
    "</table>\n",
    "\n",
    "#### Nota:\n",
    "Cabe aclarar que a pesar de definir acá las características personales y situacionales, no serán tenidas en cuenta para los conjuntos difusos de este problema; también que las características definidas para estos usuarios son deducidas, ya que en el Dataset no nos proporciona información suficiente del usuario para tener características mas concretas.\n",
    "\n",
    "<hr/>"
   ]
  },
  {
   "cell_type": "markdown",
   "metadata": {},
   "source": [
    "## Elemento de preferencia"
   ]
  },
  {
   "cell_type": "markdown",
   "metadata": {},
   "source": [
    "Los elementos de preferencia se tomarán vectores de características, para nuestro caso las clasificaciones o categorías. <br/>\n",
    "Las características que vamos a evaluar son las siguientes.\n",
    "<ul>\n",
    "    <li>Congelados (frozen)</li>\n",
    "    <li>Panadería (bakery)</li>\n",
    "    <li>Granos (bulk)</li>\n",
    "    <li>Cuidado personal (personal care)</li>\n",
    "    <li>Despensa (dentry)</li>\n",
    "    <li>Productos enlatados (cannet goods)</li>\n",
    "    <li>Aseo (household)</li>\n",
    "    <li>Pasta de productos secos (Dry goods pasta)</li>\n",
    "</ul>"
   ]
  },
  {
   "cell_type": "code",
   "execution_count": null,
   "metadata": {},
   "outputs": [],
   "source": []
  }
 ],
 "metadata": {
  "kernelspec": {
   "display_name": "Python 2",
   "language": "python",
   "name": "python2"
  },
  "language_info": {
   "codemirror_mode": {
    "name": "ipython",
    "version": 2
   },
   "file_extension": ".py",
   "mimetype": "text/x-python",
   "name": "python",
   "nbconvert_exporter": "python",
   "pygments_lexer": "ipython2",
   "version": "2.7.15"
  }
 },
 "nbformat": 4,
 "nbformat_minor": 2
}
