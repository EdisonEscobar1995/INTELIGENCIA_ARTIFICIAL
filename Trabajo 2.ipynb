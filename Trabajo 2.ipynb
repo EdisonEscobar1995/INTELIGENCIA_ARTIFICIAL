{
 "cells": [
  {
   "cell_type": "markdown",
   "metadata": {},
   "source": [
    "## Trabajo No. 1\n",
    "### Sobre: Algoritmos genéticos\n",
    "#### Integrantes: Cristian Yepes Sanchez, Edison Escobar Posada"
   ]
  },
  {
   "cell_type": "markdown",
   "metadata": {},
   "source": [
    "# Punto 1\n",
    "\n",
    "$aptitud(x)=\\begin{Bmatrix}\n",
    "si (\\sum x_{peso} \\leqslant k) \\Rightarrow  \\sum x_{valor}\n",
    "\\\\ \n",
    "sino \\Rightarrow  0\n",
    "\\end{Bmatrix} $"
   ]
  },
  {
   "cell_type": "markdown",
   "metadata": {},
   "source": [
    "## 1.1 Funcion de aptitud"
   ]
  },
  {
   "cell_type": "code",
   "execution_count": 133,
   "metadata": {},
   "outputs": [],
   "source": [
    "import numpy as np\n",
    "\n",
    "def funcion_aptitud(x, peso, valor, capacidad):\n",
    "\n",
    "    if (np.sum(peso*x) <= capacidad):\n",
    "        aptitud = np.sum(valor*x)\n",
    "    else:\n",
    "        aptitud = 0\n",
    "    return aptitud"
   ]
  },
  {
   "cell_type": "markdown",
   "metadata": {},
   "source": [
    "## 1.2 Parametros iniciales\n",
    "Problema 1. <img src=\"images/problema1.1.1.png\" />\n",
    "Problema 2. <img src=\"images/problema1.1.2.png\" />\n",
    "Problema 3. <img src=\"images/problema1.1.3.png\" />\n",
    "Problema 4. <img src=\"images/problema1.1.4.png\" />"
   ]
  },
  {
   "cell_type": "code",
   "execution_count": 166,
   "metadata": {},
   "outputs": [],
   "source": [
    "#Problema 1\n",
    "ni = 100 #numero de iteraciones\n",
    "nc = 10 #tamaño de la poblacion\n",
    "ng = 4 #numero de genes por cromosoma\n",
    "pc = 0.9 #probabilidad de cruce\n",
    "pm = 0.5 #probabilidad de mutacion\n",
    "\n",
    "peso = [3, 5, 9, 5]\n",
    "valor = [45, 30, 45, 10]\n",
    "k = 16"
   ]
  },
  {
   "cell_type": "code",
   "execution_count": 134,
   "metadata": {},
   "outputs": [],
   "source": [
    "#Problema 2\n",
    "ni = 100 #numero de iteraciones\n",
    "nc = 10 #tamaño de la poblacion\n",
    "ng = 8 #numero de genes por cromosoma\n",
    "pc = 0.9 #probabilidad de cruce\n",
    "pm = 0.5 #probabilidad de mutacion\n",
    "\n",
    "peso = [2, 20, 20, 30, 40, 30, 60, 10]\n",
    "valor = [15, 100, 90, 60, 40, 15, 10, 1]\n",
    "k = 102"
   ]
  },
  {
   "cell_type": "code",
   "execution_count": 3,
   "metadata": {},
   "outputs": [],
   "source": [
    "#Problema 3\n",
    "ni = 100 #numero de iteraciones\n",
    "nc = 10 #tamaño de la poblacion\n",
    "ng = 7 #numero de genes por cromosoma\n",
    "pc = 0.9 #probabilidad de cruce\n",
    "pm = 0.5 #probabilidad de mutacion\n",
    "\n",
    "peso = [31, 10, 20, 19, 4, 3, 6]\n",
    "valor = [70, 20, 39, 37, 7, 5, 10]\n",
    "k = 50"
   ]
  },
  {
   "cell_type": "code",
   "execution_count": 140,
   "metadata": {},
   "outputs": [],
   "source": [
    "#Problema 4\n",
    "ni = 100 #numero de iteraciones\n",
    "nc = 10 #tamaño de la poblacion\n",
    "ng = 7 #numero de genes por cromosoma\n",
    "pc = 0.9 #probabilidad de cruce\n",
    "pm = 0.5 #probabilidad de mutacion\n",
    "\n",
    "peso = [25, 35, 45, 5, 25, 3, 2, 2]\n",
    "valor = [350, 400, 450, 20, 70, 8, 5, 5]\n",
    "k = 104"
   ]
  },
  {
   "cell_type": "markdown",
   "metadata": {},
   "source": [
    "## 1.3 Inicializacion de poblacion (p) y calculo de funcion de aptitud"
   ]
  },
  {
   "cell_type": "code",
   "execution_count": 167,
   "metadata": {
    "scrolled": true
   },
   "outputs": [
    {
     "name": "stdout",
     "output_type": "stream",
     "text": [
      "Poblacion inicial... \n",
      "[[1. 1. 1. 1.]\n",
      " [1. 0. 1. 1.]\n",
      " [1. 1. 0. 0.]\n",
      " [0. 0. 0. 0.]\n",
      " [0. 1. 0. 1.]\n",
      " [1. 0. 0. 1.]\n",
      " [1. 0. 0. 1.]\n",
      " [0. 0. 1. 0.]\n",
      " [0. 1. 1. 0.]\n",
      " [1. 1. 1. 1.]]\n",
      "Aptitudes... \n",
      "[ 0  0 75  0 40 55 55 45 75  0]\n"
     ]
    }
   ],
   "source": [
    "#P es la poblacion inicial\n",
    "p = np.round(np.random.random([nc, ng]))\n",
    "\n",
    "#fa es el vector de la función de aptitud de cada uno de los individuos de poblacion\n",
    "fa = np.zeros([nc], dtype=np.int)\n",
    "\n",
    "for i in range(nc):\n",
    "    fa[i] = funcion_aptitud(p[i], peso, valor, k)\n",
    "\n",
    "    \n",
    "print(\"Poblacion inicial... \")\n",
    "print (p)\n",
    "print(\"Aptitudes... \")\n",
    "print (fa)"
   ]
  },
  {
   "cell_type": "markdown",
   "metadata": {},
   "source": [
    "## 1.4. Ciclo principal del algoritmo genético:\n",
    "**Seleccion->Cruce->Mutación->Evaluación->Inserción**"
   ]
  },
  {
   "cell_type": "code",
   "execution_count": 168,
   "metadata": {},
   "outputs": [],
   "source": [
    "def seleccion_ruleta(numChilds):\n",
    "    #Selección por medio de la ruleta\n",
    "    probabilidades = np.zeros([nc], dtype=np.double)\n",
    "    individuos = np.zeros([numChilds], dtype=np.int)\n",
    "    for j in range (numChilds):\n",
    "        for i in range(nc):\n",
    "            probabilidades[i] = (float(fa[i])/np.sum(fa))\n",
    "        \n",
    "        #Calculemos el valor aleatorio de la ruleta\n",
    "        numRandom = np.random.rand()\n",
    "        #print(\"Numero Random (Ruleta): \", numRandom)\n",
    "        #Calculemos las probabilidades acumuladas\n",
    "        probabilidadesAcum = np.cumsum(probabilidades)\n",
    "        \n",
    "        #Seleccionemos un individuo segun el criterio explicado anteriormente\n",
    "        individuos[j] = np.argmax(probabilidadesAcum >= numRandom)\n",
    "        #print probabilidadesAcum[np.argmax(probabilidadesAcum >= numRandom)]\n",
    "        #print(\"Individuo seleccionado: \", individuos)\n",
    "    return individuos;"
   ]
  },
  {
   "cell_type": "code",
   "execution_count": 169,
   "metadata": {},
   "outputs": [],
   "source": [
    "for i in range(ni):\n",
    "    #Seleccion - Aleatoria    \n",
    "    seleccionados = seleccion_ruleta(2)\n",
    "    p1 = seleccionados[0]\n",
    "    p2 = seleccionados[1]\n",
    "    \n",
    "    #Cruce a un punto\n",
    "    if(np.random.rand() <= pc):\n",
    "        cross_point = np.random.randint(ng)\n",
    "        child1 = np.append(p[p1, 0:cross_point], p[p2, cross_point:])\n",
    "        child2 = np.append(p[p2, 0:cross_point], p[p1, cross_point:])\n",
    "        \n",
    "    #Mutacion: se muta un bit aleatoriamente\n",
    "    if(np.random.rand() <= pm):\n",
    "        mut_point_c1 = np.random.randint(ng-1)\n",
    "        mut_point_c2 = np.random.randint(ng-1)\n",
    "        \n",
    "        child1[mut_point_c1] = 1-child1[mut_point_c1]\n",
    "        child2[mut_point_c2] = 1-child2[mut_point_c2]\n",
    "    \n",
    "    #Se evaluan los nuevos hijos\n",
    "    eval_child1 = funcion_aptitud(child1, peso, valor, k)\n",
    "    eval_child2 = funcion_aptitud(child2, peso, valor, k)\n",
    "    \n",
    "    #Insercion por reemplazo de los padres.\n",
    "    if(eval_child1 > fa[p1]):\n",
    "        p[p1] = child1\n",
    "        fa[p1] = eval_child1\n",
    "    \n",
    "    if(eval_child2 > fa[p2]):\n",
    "        p[p2] = child2\n",
    "        fa[p2] = eval_child2"
   ]
  },
  {
   "cell_type": "markdown",
   "metadata": {},
   "source": [
    "## 2.5. Mostrar mejor individuo al final del ciclo"
   ]
  },
  {
   "cell_type": "code",
   "execution_count": 171,
   "metadata": {},
   "outputs": [
    {
     "name": "stdout",
     "output_type": "stream",
     "text": [
      "La mejor configuración para la bolsa es:  [1. 0. 1. 0.]\n",
      "Con una función de aptitud de:  90\n"
     ]
    }
   ],
   "source": [
    "print 'La mejor configuración para la bolsa es: ', p[np.argmax(fa)]\n",
    "print 'Con una función de aptitud de: ', fa[np.argmax(fa)]"
   ]
  },
  {
   "cell_type": "code",
   "execution_count": null,
   "metadata": {},
   "outputs": [],
   "source": []
  }
 ],
 "metadata": {
  "kernelspec": {
   "display_name": "Python 2",
   "language": "python",
   "name": "python2"
  },
  "language_info": {
   "codemirror_mode": {
    "name": "ipython",
    "version": 2
   },
   "file_extension": ".py",
   "mimetype": "text/x-python",
   "name": "python",
   "nbconvert_exporter": "python",
   "pygments_lexer": "ipython2",
   "version": "2.7.15"
  }
 },
 "nbformat": 4,
 "nbformat_minor": 2
}
