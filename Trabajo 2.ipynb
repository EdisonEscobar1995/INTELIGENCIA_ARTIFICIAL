{
 "cells": [
  {
   "cell_type": "markdown",
   "metadata": {},
   "source": [
    "## Trabajo No. 1\n",
    "### Sobre: Algoritmos genéticos\n",
    "#### Integrantes: Cristian Yepes Sanchez, Edison Escobar Posada"
   ]
  },
  {
   "cell_type": "markdown",
   "metadata": {},
   "source": [
    "# Punto 1\n",
    "\n",
    "$aptitud(x)=\\begin{Bmatrix}\n",
    "si (\\sum x_{peso} \\leqslant k) \\Rightarrow  \\sum x_{valor}\n",
    "\\\\ \n",
    "sino \\Rightarrow  0\n",
    "\\end{Bmatrix} $"
   ]
  },
  {
   "cell_type": "markdown",
   "metadata": {},
   "source": [
    "## 1.1 Funcion de aptitud"
   ]
  },
  {
   "cell_type": "code",
   "execution_count": 467,
   "metadata": {},
   "outputs": [],
   "source": [
    "import numpy as np\n",
    "\n",
    "def funcion_aptitud(x, peso, valor, capacidad):\n",
    "\n",
    "    if (np.sum(peso*x) <= capacidad):\n",
    "        aptitud = np.sum(valor*x)\n",
    "    else:\n",
    "        aptitud = 0\n",
    "    return aptitud"
   ]
  },
  {
   "cell_type": "markdown",
   "metadata": {},
   "source": [
    "## 1.2 Parametros iniciales\n",
    "Problema 1. <img src=\"images/problema1.1.1.png\" />\n",
    "Problema 2. <img src=\"images/problema1.1.2.png\" />\n",
    "Problema 3. <img src=\"images/problema1.1.3.png\" />\n",
    "Problema 4. <img src=\"images/problema1.1.4.png\" />"
   ]
  },
  {
   "cell_type": "code",
   "execution_count": 175,
   "metadata": {},
   "outputs": [],
   "source": [
    "#Problema 1\n",
    "ni = 100 #numero de iteraciones\n",
    "nc = 10 #tamaño de la poblacion\n",
    "ng = 4 #numero de genes por cromosoma\n",
    "pc = 0.9 #probabilidad de cruce\n",
    "pm = 0.5 #probabilidad de mutacion\n",
    "\n",
    "peso = [3, 5, 9, 5]\n",
    "valor = [45, 30, 45, 10]\n",
    "k = 16"
   ]
  },
  {
   "cell_type": "code",
   "execution_count": 424,
   "metadata": {},
   "outputs": [],
   "source": [
    "#Problema 2\n",
    "ni = 50 #numero de iteraciones\n",
    "nc = 10 #tamaño de la poblacion\n",
    "ng = 8 #numero de genes por cromosoma\n",
    "pc = 0.9 #probabilidad de cruce\n",
    "pm = 0.5 #probabilidad de mutacion\n",
    "\n",
    "peso = [2, 20, 20, 30, 40, 30, 60, 10]\n",
    "valor = [15, 100, 90, 60, 40, 15, 10, 1]\n",
    "k = 102"
   ]
  },
  {
   "cell_type": "code",
   "execution_count": 780,
   "metadata": {},
   "outputs": [],
   "source": [
    "#Problema 3\n",
    "ni = 1000 #numero de iteraciones\n",
    "nc = 100 #tamaño de la poblacion\n",
    "ng = 7 #numero de genes por cromosoma\n",
    "pc = 0.9 #probabilidad de cruce\n",
    "pm = 0.5 #probabilidad de mutacion\n",
    "\n",
    "peso = [31, 10, 20, 19, 4, 3, 6]\n",
    "valor = [70, 20, 39, 37, 7, 5, 10]\n",
    "k = 50"
   ]
  },
  {
   "cell_type": "code",
   "execution_count": 740,
   "metadata": {},
   "outputs": [],
   "source": [
    "#Problema 4\n",
    "ni = 100 #numero de iteraciones\n",
    "nc = 10 #tamaño de la poblacion\n",
    "ng = 8 #numero de genes por cromosoma\n",
    "pc = 0.9 #probabilidad de cruce\n",
    "pm = 0.5 #probabilidad de mutacion\n",
    "\n",
    "peso = [25, 35, 45, 5, 25, 3, 2, 2]\n",
    "valor = [350, 400, 450, 20, 70, 8, 5, 5]\n",
    "k = 104"
   ]
  },
  {
   "cell_type": "markdown",
   "metadata": {},
   "source": [
    "## 1.3 Inicializacion de poblacion (p) y calculo de funcion de aptitud"
   ]
  },
  {
   "cell_type": "code",
   "execution_count": 777,
   "metadata": {
    "scrolled": true
   },
   "outputs": [
    {
     "name": "stdout",
     "output_type": "stream",
     "text": [
      "Poblacion inicial... \n",
      "[[1. 1. 0. 0. 0. 1. 1.]\n",
      " [0. 0. 0. 1. 0. 0. 0.]\n",
      " [0. 1. 0. 0. 1. 1. 0.]\n",
      " [1. 1. 0. 0. 1. 1. 0.]\n",
      " [0. 0. 0. 1. 1. 0. 0.]\n",
      " [0. 0. 0. 0. 1. 1. 0.]\n",
      " [0. 1. 0. 0. 0. 0. 1.]\n",
      " [1. 1. 1. 0. 1. 1. 1.]\n",
      " [1. 0. 0. 1. 1. 0. 1.]\n",
      " [0. 1. 0. 1. 0. 1. 0.]\n",
      " [1. 1. 0. 0. 1. 0. 0.]\n",
      " [1. 0. 0. 0. 1. 1. 1.]\n",
      " [1. 1. 1. 1. 1. 1. 1.]\n",
      " [0. 1. 0. 0. 1. 1. 0.]\n",
      " [0. 1. 0. 1. 1. 0. 1.]\n",
      " [1. 1. 1. 1. 0. 0. 1.]\n",
      " [1. 1. 0. 0. 0. 1. 1.]\n",
      " [0. 1. 0. 0. 0. 1. 1.]\n",
      " [1. 0. 1. 1. 1. 1. 1.]\n",
      " [1. 1. 0. 1. 1. 1. 0.]\n",
      " [1. 1. 0. 0. 1. 1. 0.]\n",
      " [1. 0. 0. 0. 0. 1. 0.]\n",
      " [0. 0. 1. 1. 0. 1. 1.]\n",
      " [1. 1. 0. 0. 0. 0. 0.]\n",
      " [1. 0. 0. 1. 0. 1. 0.]\n",
      " [0. 1. 1. 1. 1. 1. 0.]\n",
      " [0. 1. 0. 0. 0. 0. 1.]\n",
      " [0. 0. 0. 0. 1. 0. 1.]\n",
      " [1. 0. 0. 1. 1. 1. 1.]\n",
      " [1. 0. 0. 0. 1. 1. 1.]\n",
      " [0. 0. 0. 1. 0. 0. 1.]\n",
      " [1. 0. 0. 1. 0. 1. 1.]\n",
      " [0. 1. 0. 1. 0. 0. 1.]\n",
      " [0. 0. 0. 1. 0. 0. 0.]\n",
      " [1. 0. 1. 1. 0. 0. 1.]\n",
      " [0. 1. 0. 0. 0. 0. 0.]\n",
      " [1. 0. 1. 1. 0. 1. 1.]\n",
      " [1. 1. 0. 0. 1. 1. 1.]\n",
      " [0. 0. 1. 1. 1. 1. 0.]\n",
      " [0. 0. 1. 0. 0. 1. 1.]\n",
      " [1. 0. 1. 1. 1. 0. 0.]\n",
      " [1. 1. 0. 0. 0. 0. 1.]\n",
      " [0. 0. 1. 0. 0. 0. 1.]\n",
      " [0. 0. 0. 1. 0. 0. 0.]\n",
      " [1. 1. 1. 1. 0. 1. 0.]\n",
      " [0. 0. 0. 0. 1. 0. 0.]\n",
      " [1. 0. 0. 0. 0. 1. 0.]\n",
      " [0. 1. 1. 0. 0. 1. 0.]\n",
      " [0. 0. 0. 0. 0. 1. 1.]\n",
      " [0. 1. 0. 0. 0. 1. 0.]\n",
      " [0. 0. 1. 0. 1. 1. 1.]\n",
      " [1. 1. 0. 1. 1. 1. 0.]\n",
      " [0. 0. 0. 1. 0. 0. 0.]\n",
      " [0. 1. 1. 1. 0. 0. 0.]\n",
      " [0. 1. 1. 0. 0. 1. 1.]\n",
      " [1. 0. 1. 0. 0. 1. 0.]\n",
      " [0. 0. 0. 1. 1. 1. 1.]\n",
      " [1. 0. 1. 1. 1. 1. 1.]\n",
      " [1. 1. 1. 0. 1. 0. 0.]\n",
      " [0. 1. 1. 0. 1. 1. 0.]\n",
      " [0. 0. 1. 0. 1. 1. 0.]\n",
      " [0. 0. 0. 1. 0. 0. 0.]\n",
      " [1. 1. 0. 1. 0. 0. 1.]\n",
      " [1. 0. 0. 1. 1. 1. 1.]\n",
      " [0. 1. 0. 0. 1. 0. 0.]\n",
      " [0. 0. 1. 1. 1. 1. 0.]\n",
      " [1. 1. 1. 0. 0. 1. 0.]\n",
      " [1. 0. 1. 1. 1. 1. 0.]\n",
      " [0. 0. 1. 1. 1. 0. 0.]\n",
      " [0. 1. 1. 1. 1. 0. 1.]\n",
      " [0. 0. 0. 0. 1. 0. 1.]\n",
      " [0. 0. 0. 0. 0. 1. 1.]\n",
      " [0. 0. 0. 1. 1. 0. 0.]\n",
      " [0. 1. 0. 1. 1. 0. 0.]\n",
      " [1. 1. 1. 0. 0. 1. 1.]\n",
      " [0. 1. 1. 0. 1. 0. 0.]\n",
      " [0. 1. 1. 1. 1. 1. 1.]\n",
      " [0. 0. 1. 0. 1. 1. 1.]\n",
      " [1. 0. 1. 1. 1. 1. 0.]\n",
      " [1. 1. 0. 0. 1. 0. 1.]\n",
      " [0. 0. 1. 0. 0. 1. 1.]\n",
      " [1. 1. 0. 0. 1. 1. 0.]\n",
      " [0. 1. 1. 1. 1. 0. 0.]\n",
      " [1. 0. 1. 0. 1. 0. 1.]\n",
      " [1. 0. 1. 0. 0. 0. 0.]\n",
      " [1. 0. 1. 0. 1. 0. 0.]\n",
      " [1. 1. 1. 0. 0. 0. 1.]\n",
      " [1. 0. 0. 0. 0. 1. 1.]\n",
      " [1. 1. 1. 0. 1. 0. 0.]\n",
      " [1. 1. 0. 1. 1. 1. 0.]\n",
      " [1. 1. 0. 0. 0. 1. 0.]\n",
      " [1. 0. 1. 1. 1. 0. 0.]\n",
      " [1. 1. 1. 1. 1. 0. 0.]\n",
      " [0. 1. 0. 1. 1. 1. 0.]\n",
      " [1. 1. 0. 1. 1. 0. 0.]\n",
      " [0. 0. 0. 0. 1. 1. 1.]\n",
      " [0. 1. 0. 1. 1. 0. 0.]\n",
      " [1. 0. 0. 1. 1. 0. 1.]\n",
      " [1. 0. 1. 0. 0. 0. 0.]\n",
      " [0. 1. 1. 1. 0. 1. 0.]]\n",
      "Aptitudes... \n",
      "[105  37  32 102  44  12  30   0   0  62  97  92   0  32  74   0 105  35\n",
      "   0   0 102  75  91  90   0   0  30  17   0  92  47   0  67  37   0  20\n",
      "   0   0  88  54   0 100  49  37   0   7  75  64  15  25  61   0  37  96\n",
      "  74   0  59   0   0  71  51  37   0   0  27  88   0   0  83   0  17  15\n",
      "  44  64   0  66   0  61   0   0  54 102   0   0   0   0   0  85   0   0\n",
      "  95   0   0  69   0  22  64   0   0   0]\n"
     ]
    }
   ],
   "source": [
    "#P es la poblacion inicial\n",
    "p = np.round(np.random.random([nc, ng]))\n",
    "\n",
    "#fa es el vector de la función de aptitud de cada uno de los individuos de poblacion\n",
    "fa = np.zeros([nc], dtype=np.int)\n",
    "\n",
    "for i in range(nc):\n",
    "    fa[i] = funcion_aptitud(p[i], peso, valor, k)\n",
    "\n",
    "    \n",
    "print(\"Poblacion inicial... \")\n",
    "print (p)\n",
    "print(\"Aptitudes... \")\n",
    "print (fa)"
   ]
  },
  {
   "cell_type": "markdown",
   "metadata": {},
   "source": [
    "## 1.4. Ciclo principal del algoritmo genético:\n",
    "**Seleccion->Cruce->Mutación->Evaluación->Inserción**"
   ]
  },
  {
   "cell_type": "code",
   "execution_count": 773,
   "metadata": {},
   "outputs": [],
   "source": [
    "def seleccion_ruleta(numChilds):\n",
    "    #Selección por medio de la ruleta\n",
    "    probabilidades = np.zeros([nc], dtype=np.double)\n",
    "    individuos = np.zeros([numChilds], dtype=np.int)\n",
    "    for j in range (numChilds):\n",
    "        for i in range(nc):\n",
    "            probabilidades[i] = (float(fa[i])/np.sum(fa))\n",
    "        \n",
    "        #Calculemos el valor aleatorio de la ruleta\n",
    "        numRandom = np.random.rand()\n",
    "        #print(\"Numero Random (Ruleta): \", numRandom)\n",
    "        #Calculemos las probabilidades acumuladas\n",
    "        probabilidadesAcum = np.cumsum(probabilidades)\n",
    "        \n",
    "        #Seleccionemos un individuo segun el criterio explicado anteriormente\n",
    "        individuos[j] = np.argmax(probabilidadesAcum >= numRandom)\n",
    "        #print probabilidadesAcum[np.argmax(probabilidadesAcum >= numRandom)]\n",
    "        #print(\"Individuo seleccionado: \", individuos)\n",
    "    return individuos;"
   ]
  },
  {
   "cell_type": "code",
   "execution_count": 774,
   "metadata": {},
   "outputs": [],
   "source": [
    "def show(yrandom, yruleta, x):\n",
    "    a = np.array(range(0,ni))\n",
    "    print \"By Random\"\n",
    "    print yrandom\n",
    "    '''\n",
    "    plot solution\n",
    "    '''\n",
    "    best_path = p[np.argmax(fa)]\n",
    "    plt.plot(x, yrandom, 'r*')#paths\n",
    "    plt.plot(x, yrandom, linestyle=':', color='b')\n",
    "    plt.show()\n",
    "    \n",
    "    print \"By Ruleta\"\n",
    "    print yruleta\n",
    "    '''\n",
    "    plot solution\n",
    "    '''\n",
    "    best_path = p[np.argmax(fa)]\n",
    "    plt.plot(x, yruleta, 'r*')#paths\n",
    "    plt.plot(x, yruleta, linestyle=':', color='b')\n",
    "    plt.show()"
   ]
  },
  {
   "cell_type": "code",
   "execution_count": 778,
   "metadata": {},
   "outputs": [],
   "source": [
    "paux = p\n",
    "def main_Bucle(method):    \n",
    "    y = np.zeros([ni], dtype=np.float)\n",
    "    print method\n",
    "    for i in range(ni):       \n",
    "        if (method == \"random\"):\n",
    "            #Seleccion aleatoria\n",
    "            p1 = np.random.randint(nc-1)\n",
    "            p2 = np.random.randint(nc-1)        \n",
    "        elif (method == \"ruleta\"):\n",
    "            #Seleccion - Ruleta\n",
    "            seleccionados = seleccion_ruleta(2)\n",
    "\n",
    "            p1 = seleccionados[0]\n",
    "            p2 = seleccionados[1]\n",
    "\n",
    "        #Cruce a un punto\n",
    "        if(np.random.rand() <= pc):\n",
    "            cross_point = np.random.randint(ng)\n",
    "            child1 = np.append(p[p1, 0:cross_point], p[p2, cross_point:])\n",
    "            child2 = np.append(p[p2, 0:cross_point], p[p1, cross_point:])\n",
    "\n",
    "        #Mutacion: se muta un bit aleatoriamente\n",
    "        if(np.random.rand() <= pm):\n",
    "            mut_point_c1 = np.random.randint(ng-1)\n",
    "            mut_point_c2 = np.random.randint(ng-1)\n",
    "\n",
    "            child1[mut_point_c1] = 1-child1[mut_point_c1]\n",
    "            child2[mut_point_c2] = 1-child2[mut_point_c2]\n",
    "\n",
    "        #Se evaluan los nuevos hijos\n",
    "        eval_child1 = funcion_aptitud(child1, peso, valor, k)\n",
    "        eval_child2 = funcion_aptitud(child2, peso, valor, k)\n",
    "\n",
    "        #Insercion por reemplazo de los padres.\n",
    "        if(eval_child1 > fa[p1]):\n",
    "            p[p1] = child1\n",
    "            fa[p1] = eval_child1\n",
    "\n",
    "        if(eval_child2 > fa[p2]):\n",
    "            p[p2] = child2\n",
    "            fa[p2] = eval_child2\n",
    "\n",
    "        y[i] = fa[np.argmax(fa)]\n",
    "    return y"
   ]
  },
  {
   "cell_type": "code",
   "execution_count": 779,
   "metadata": {
    "scrolled": true
   },
   "outputs": [
    {
     "name": "stdout",
     "output_type": "stream",
     "text": [
      "random\n",
      "ruleta\n",
      "By Random\n",
      "[105. 105. 105. ... 107. 107. 107.]\n"
     ]
    },
    {
     "data": {
      "image/png": "[encoded data removed]",
      "text/plain": [
       "<Figure size 432x288 with 1 Axes>"
      ]
     },
     "metadata": {},
     "output_type": "display_data"
    },
    {
     "name": "stdout",
     "output_type": "stream",
     "text": [
      "By Ruleta\n",
      "[107. 107. 107. ... 107. 107. 107.]\n"
     ]
    },
    {
     "data": {
      "image/png": "[encoded data removed]",
      "text/plain": [
       "<Figure size 432x288 with 1 Axes>"
      ]
     },
     "metadata": {},
     "output_type": "display_data"
    }
   ],
   "source": [
    "x = np.array(range(0, ni))\n",
    "for i in range(2):    \n",
    "    if (i == 0):        \n",
    "        yrandom = main_Bucle('random')\n",
    "    else:\n",
    "        p = paux\n",
    "        yruleta = main_Bucle('ruleta')\n",
    "show(yrandom, yruleta, x)"
   ]
  },
  {
   "cell_type": "markdown",
   "metadata": {},
   "source": [
    "## 1.5. Mostrar mejor individuo al final del ciclo"
   ]
  },
  {
   "cell_type": "code",
   "execution_count": 712,
   "metadata": {},
   "outputs": [
    {
     "name": "stdout",
     "output_type": "stream",
     "text": [
      "La mejor configuración para la bolsa es:  [1. 0. 1. 1. 1. 0. 1. 1.]\n",
      "Con una función de aptitud de:  900\n"
     ]
    }
   ],
   "source": [
    "print 'La mejor configuración para la bolsa es: ', p[np.argmax(fa)]\n",
    "print 'Con una función de aptitud de: ', fa[np.argmax(fa)]"
   ]
  },
  {
   "cell_type": "markdown",
   "metadata": {},
   "source": [
    "# Punto 2\n",
    "\n",
    "<img src='images/viajero.png' />"
   ]
  },
  {
   "cell_type": "markdown",
   "metadata": {},
   "source": [
    "## 2.1 Inicializar parámetros del algoritmo genético y gráfico de los puntos"
   ]
  },
  {
   "cell_type": "code",
   "execution_count": 122,
   "metadata": {},
   "outputs": [
    {
     "data": {
      "text/plain": [
       "[<matplotlib.lines.Line2D at 0x901bdd8>]"
      ]
     },
     "execution_count": 122,
     "metadata": {},
     "output_type": "execute_result"
    },
    {
     "data": {
      "image/png": "[encoded data removed]",
      "text/plain": [
       "<Figure size 432x288 with 1 Axes>"
      ]
     },
     "metadata": {},
     "output_type": "display_data"
    }
   ],
   "source": [
    "import numpy as np\n",
    "\n",
    "%matplotlib inline\n",
    "\n",
    "import matplotlib.pyplot as plt\n",
    "\n",
    "x=np.array([1, 1, 1, 1, 2.5, 2.5, 2.5, 2.5, 2.5, 3.5, 3.5, 3.5, 3.5, 3.5, 7, 7, 7, 7, 7, 7]) #cities x coordinate\n",
    "y=np.array([1, 3, 7, 8, 14, 13.5, 13, 7.5, 1, 2, 8.2, 12.9, 13.2, 13.9, 15.5, 13.5, 12.1, 12, 10, 4]) #cities y coordinate\n",
    "\n",
    "ni = 1000 #numero de iteraciones\n",
    "nc = 100 #numero de cromosomas\n",
    "ng = 20 #numero de genes\n",
    "\n",
    "pc = 0.9 #probabilidad de cruce\n",
    "pm = 0.5 #probabilidad de mutacion\n",
    "\n",
    "plt.plot(x, y, 'r*')#cities"
   ]
  },
  {
   "cell_type": "markdown",
   "metadata": {},
   "source": [
    "## 2.2 Función de aptitud\n",
    "Para este caso, la función de aptitud de un cromosoma $c$ se define el inverso de la sumatoria de las distancias entre ciudades consecutivas que representa. Por ejemplo, el cromosoma $c = [1, 2, 3]$  representa una ruta que recorre en orden $ciudad_1->ciudad_2->ciudad_3$.\n",
    "\n",
    "En cuyo caso, la función de aptitud sería:\n",
    "\n",
    "$\\frac{1}{\\sqrt{(ciudad_1[x]-ciudad_2[x])^2 + (ciudad_1[y]-ciudad_2[y])^2} + \\sqrt{(ciudad_2[x]-ciudad_3[x])^2 + (ciudad_2[y]-ciudad_3[y])^2}}$ \n",
    "\n",
    "En términos generales, la función de aptitud se define como:\n",
    "$aptitud(x) = \\frac{1}{\\sum{\\sqrt{(ciudad_i[x]-ciudad_{i+1}[x])^2 + (ciudad_i[y]-ciudad_{i+1}[y])^2 }}}$"
   ]
  },
  {
   "cell_type": "code",
   "execution_count": 125,
   "metadata": {},
   "outputs": [],
   "source": [
    "def funcion_aptitud(c, x, y):\n",
    "    \n",
    "    #cerremos el ciclo entre ciudades\n",
    "    c = np.append(c,c[0])\n",
    "       \n",
    "    dist_sum = 0 #Esta variable almacenará la sumatoria de las distancias. Inicializar.\n",
    "    \n",
    "    for i in range(len(x)):\n",
    "        #por cada ciudad i, tomar los valores x y y de las ciudades i y la ciuad i+1\n",
    "        tx1 = x[c[i]]\n",
    "        tx2 = x[c[i+1]]\n",
    "        ty1 = y[c[i]]\n",
    "        ty2 = y[c[i+1]]\n",
    "        \n",
    "        #Valor absoluto de la distancia entre dos 2 puntos adyacentes (ciudades)\n",
    "        dist_sum += np.sqrt(abs( ((tx2-tx1)**2) + ((ty2-ty1)**2) ))\n",
    "    \n",
    "    return 1.0/dist_sum"
   ]
  },
  {
   "cell_type": "markdown",
   "metadata": {},
   "source": [
    "## 2.3. Inicializar población (p) y calcular la aptitud (fa) de sus individuos\n",
    "\n",
    "En este caso, la población inicial consiste en una matriz de enteros $p_{nc \\times ng}$, con la restricción de que la secuencia de ciudades no puede tener repetición de ciudades. Por ello cada cromosoma es una permutación de ciudades."
   ]
  },
  {
   "cell_type": "code",
   "execution_count": 126,
   "metadata": {},
   "outputs": [
    {
     "name": "stdout",
     "output_type": "stream",
     "text": [
      "[[15 19  2 ... 13  5 18]\n",
      " [17 14 12 ... 11  6 16]\n",
      " [10  4  1 ... 18 11  6]\n",
      " ...\n",
      " [ 8 11  9 ... 12  2 16]\n",
      " [15  6 12 ... 18 10  9]\n",
      " [18 16  9 ...  2  4 17]]\n"
     ]
    }
   ],
   "source": [
    "fa = np.zeros([nc], dtype=np.float) #vector de aptitudes\n",
    "p = np.zeros([nc, ng], dtype=np.int) #matriz de poblacion\n",
    "\n",
    "for i in range(nc):\n",
    "    #COMPLETAR: 2 lineas\n",
    "    p[i, :] = np.random.permutation(ng) #permutacion\n",
    "    fa[i] = funcion_aptitud(p[i, :], x, y) #funcion de aptitud\n",
    "print p"
   ]
  },
  {
   "cell_type": "markdown",
   "metadata": {},
   "source": [
    "### 2.4. Ciclo principal del algoritmo genético:\n",
    "**Seleccion->Cruce->Mutación->Evaluación->Inserción**\n",
    "\n",
    "Analizar en clase el siguiente código y:\n",
    "\n",
    "1. Evaluar la convergencia del algoritmo.\n",
    "2. Medir el impacto de los parametros iniciales en la convergencia.\n",
    "3. Implementar la etapa de inserción por reemplazo de los mejores de la población."
   ]
  },
  {
   "cell_type": "code",
   "execution_count": 139,
   "metadata": {},
   "outputs": [
    {
     "ename": "TypeError",
     "evalue": "funcion_aptitud() takes exactly 4 arguments (3 given)",
     "output_type": "error",
     "traceback": [
      "\u001b[1;31m---------------------------------------------------------------------------\u001b[0m",
      "\u001b[1;31mTypeError\u001b[0m                                 Traceback (most recent call last)",
      "\u001b[1;32m<ipython-input-139-eee3943d26b1>\u001b[0m in \u001b[0;36m<module>\u001b[1;34m()\u001b[0m\n\u001b[0;32m     36\u001b[0m \u001b[1;33m\u001b[0m\u001b[0m\n\u001b[0;32m     37\u001b[0m     \u001b[1;31m#Evaluacion de los hijos\u001b[0m\u001b[1;33m\u001b[0m\u001b[1;33m\u001b[0m\u001b[0m\n\u001b[1;32m---> 38\u001b[1;33m     \u001b[0meval_child1\u001b[0m \u001b[1;33m=\u001b[0m \u001b[0mfuncion_aptitud\u001b[0m\u001b[1;33m(\u001b[0m\u001b[0mchild1\u001b[0m\u001b[1;33m,\u001b[0m \u001b[0mx\u001b[0m\u001b[1;33m,\u001b[0m \u001b[0my\u001b[0m\u001b[1;33m)\u001b[0m\u001b[1;33m\u001b[0m\u001b[0m\n\u001b[0m\u001b[0;32m     39\u001b[0m     \u001b[0meval_child2\u001b[0m \u001b[1;33m=\u001b[0m \u001b[0mfuncion_aptitud\u001b[0m\u001b[1;33m(\u001b[0m\u001b[0mchild2\u001b[0m\u001b[1;33m,\u001b[0m \u001b[0mx\u001b[0m\u001b[1;33m,\u001b[0m \u001b[0my\u001b[0m\u001b[1;33m)\u001b[0m\u001b[1;33m\u001b[0m\u001b[0m\n\u001b[0;32m     40\u001b[0m \u001b[1;33m\u001b[0m\u001b[0m\n",
      "\u001b[1;31mTypeError\u001b[0m: funcion_aptitud() takes exactly 4 arguments (3 given)"
     ]
    }
   ],
   "source": [
    "for i in range(ni):\n",
    "    #Seleccion: Padre1 - el mejor de la población. Padre2 - aleatorio\n",
    "    p1_index = np.argsort(fa)[::-1][0]\n",
    "    p2_index = np.random.randint(nc)\n",
    "    p1 = p[p1_index]\n",
    "    p2 = p[p2_index]\n",
    "    \n",
    "    #Cruce: un punto\n",
    "    if(np.random.rand() <= pc):\n",
    "        cross_point = np.random.randint(ng)\n",
    "        child1 = p1[0:cross_point]\n",
    "        child2 = p2[0:cross_point]\n",
    "        \n",
    "        init_k = cross_point\n",
    "        \n",
    "        for k in range(ng):\n",
    "            j = (init_k+k)%ng\n",
    "            if not(np.count_nonzero(child1 == p2[j])):\n",
    "                child1 = np.append(child1, p2[j])\n",
    "            \n",
    "            if not(np.count_nonzero(child2 == p1[j])):\n",
    "                child2 = np.append(child2, p1[j])\n",
    "\n",
    "    #Mutacion: cambio de orden\n",
    "    if(np.random.rand() <= pm):\n",
    "        mut_point_c1 = np.random.randint(ng-1)\n",
    "        mut_point_c2 = np.random.randint(ng-1)\n",
    "    \n",
    "        temp = child1[mut_point_c1]\n",
    "        child1[mut_point_c1] = child1[mut_point_c2]\n",
    "        child1[mut_point_c2] = temp\n",
    "        \n",
    "        temp = child2[mut_point_c1]\n",
    "        child2[mut_point_c1] = child2[mut_point_c2]\n",
    "        child2[mut_point_c2] = temp\n",
    "    \n",
    "    #Evaluacion de los hijos\n",
    "    eval_child1 = funcion_aptitud(child1, x, y)\n",
    "    eval_child2 = funcion_aptitud(child2, x, y)\n",
    "    \n",
    "    #Inserción: reemplazo de padres\n",
    "    if(eval_child1 > fa[p1_index]):\n",
    "        p[p1_index] = child1\n",
    "        fa[p1_index] = eval_child1\n",
    "    \n",
    "    if(eval_child2 > fa[p2_index]):\n",
    "        p[p2_index] = child2\n",
    "        fa[p2_index] = eval_child2\n",
    "    "
   ]
  },
  {
   "cell_type": "markdown",
   "metadata": {},
   "source": [
    "## 2.5. Mostrar mejor individuo al final del ciclo"
   ]
  },
  {
   "cell_type": "code",
   "execution_count": 130,
   "metadata": {},
   "outputs": [
    {
     "name": "stdout",
     "output_type": "stream",
     "text": [
      "La mejor ruta es:  [17 18 19 10  7  3  9  8  0  1  2 12 11  6  4  5 13 15 14 16]\n",
      "Con una función de aptitud de:  0.019503425542015992\n"
     ]
    }
   ],
   "source": [
    "print 'La mejor ruta es: ', p[np.argmax(fa)]\n",
    "print 'Con una función de aptitud de: ', fa[np.argmax(fa)]"
   ]
  },
  {
   "cell_type": "code",
   "execution_count": 131,
   "metadata": {},
   "outputs": [
    {
     "data": {
      "image/png": "[encoded data removed]",
      "text/plain": [
       "<Figure size 432x288 with 1 Axes>"
      ]
     },
     "metadata": {},
     "output_type": "display_data"
    }
   ],
   "source": [
    "'''\n",
    "plot solution\n",
    "'''\n",
    "best_path = p[np.argmax(fa)]\n",
    "plt.plot(x, y, 'r*')#paths\n",
    "plt.plot(x[best_path], y[best_path], 'b')#paths\n",
    "plt.show() "
   ]
  },
  {
   "cell_type": "markdown",
   "metadata": {},
   "source": [
    "## Punto 3\n",
    "\n",
    "Determinar los valores de x1, x2, …, x10 de tal forma que la siguiente función se maximice:\n",
    "<br>\n",
    "F(x1,x2,..,x10)= (x1*x2*x3*x4*x5)/(x6*x7*x8*x9*x10)  donde x1,..,x10=[1 ... 10] "
   ]
  },
  {
   "cell_type": "code",
   "execution_count": 520,
   "metadata": {},
   "outputs": [
    {
     "name": "stdout",
     "output_type": "stream",
     "text": [
      "[ 1  2  3  4  5  6  7  8  9 10]\n",
      "[1.17136781e+01 6.68985816e+00 1.59735537e-03 3.76605784e-01\n",
      " 1.57147590e+02 4.57705764e-02 3.11555698e-01 1.42460720e+01\n",
      " 1.86011905e-02 6.07343662e+01]\n"
     ]
    },
    {
     "data": {
      "image/png": "[encoded data removed]",
      "text/plain": [
       "<Figure size 432x288 with 1 Axes>"
      ]
     },
     "metadata": {},
     "output_type": "display_data"
    }
   ],
   "source": [
    "x = np.round(np.random.random([ng, ng])*100)\n",
    "x1 = np.array(range(1,ng+1))\n",
    "y = np.zeros([ng])\n",
    "\n",
    "for i in range(ng):\n",
    "    y[i] = evalreal(x[i])\n",
    "\n",
    "plt.plot(x1,y, 'r*')\n",
    "plt.plot(x1,y, linestyle='--', color='b')\n",
    "plt.show()\n"
   ]
  },
  {
   "cell_type": "markdown",
   "metadata": {},
   "source": [
    "<hr>\n",
    "### 3.1.1 Funcion de aptitud"
   ]
  },
  {
   "cell_type": "code",
   "execution_count": 521,
   "metadata": {},
   "outputs": [],
   "source": [
    "def evalreal(x):\n",
    "    return (x[0]*x[1]*x[2]*x[3]*x[4])/(x[5]*x[6]*x[7]*x[8]*x[9])"
   ]
  },
  {
   "cell_type": "markdown",
   "metadata": {},
   "source": [
    "<hr>\n",
    "### 3.1.2. Inicializar parámetros del algoritmo genético"
   ]
  },
  {
   "cell_type": "code",
   "execution_count": 522,
   "metadata": {},
   "outputs": [],
   "source": [
    "#GA parameters\n",
    "ni = 1000 #number of iterations\n",
    "nc = 100 #number of individuals\n",
    "ng = 10 #number of genes == variable x\n",
    "\n",
    "pc = 0.9\n",
    "pm = 0.5\n",
    "alpha = 0.5 #cross percentage for arithmetic cross\n",
    "\n",
    "#search range\n",
    "a = 1\n",
    "b = 10"
   ]
  },
  {
   "cell_type": "markdown",
   "metadata": {},
   "source": [
    "### 3.1.3. Inicializar población (p) y calcular la aptitud (fa) de sus individuos"
   ]
  },
  {
   "cell_type": "code",
   "execution_count": 523,
   "metadata": {},
   "outputs": [
    {
     "name": "stdout",
     "output_type": "stream",
     "text": [
      "[[2.15313155 5.78134727 2.7463372  9.76361468 7.46113759 4.57077575\n",
      "  5.35055821 4.84891506 9.89053059 5.94311569]\n",
      " [3.51668223 4.97291631 3.43440238 8.70590262 6.14334314 8.72759315\n",
      "  1.13797461 6.7148877  9.4915205  8.94973796]\n",
      " [1.75146019 4.17444698 6.70918502 8.95301655 7.41757076 3.40823166\n",
      "  4.48301685 1.80738827 5.21592536 5.71665978]\n",
      " [8.30974371 6.21190289 1.37383647 9.8719897  7.82977775 9.53232887\n",
      "  8.09005111 1.17087235 9.14220089 2.46740052]\n",
      " [4.66759315 4.98902771 2.31028206 2.60294202 5.1517531  9.65787882\n",
      "  9.89584423 3.70904937 7.27462583 7.10535367]\n",
      " [2.07473965 5.02332373 1.58742086 4.91713917 3.77326868 2.00511103\n",
      "  7.6199694  9.44702244 5.6079112  8.77129852]\n",
      " [9.94203307 9.09274809 2.1604174  8.07867056 2.2624615  5.43063791\n",
      "  7.45155721 2.2672766  7.7158396  4.78117953]\n",
      " [2.56630516 5.2185074  1.73097328 4.9521508  7.00868048 3.28061094\n",
      "  8.92828546 8.89446502 1.39742754 3.81766911]\n",
      " [7.03141479 2.00905496 8.55172311 4.00374988 1.7099835  5.4455917\n",
      "  3.26598997 8.28173545 2.62411435 8.21770682]\n",
      " [3.74967703 7.28617213 8.11640279 6.33868034 3.13494852 8.97085284\n",
      "  3.28350436 1.08679029 1.62441865 5.81804246]\n",
      " [4.95603511 8.11613056 5.5293339  6.16474679 1.49042007 2.48126967\n",
      "  8.30507332 8.71301512 3.1070503  2.19188971]\n",
      " [2.39110768 5.87984424 1.55401877 4.47430311 8.04569328 3.03752416\n",
      "  5.70820916 9.17639993 2.50783583 6.65551839]\n",
      " [8.31352449 6.39257302 7.51069788 7.8005816  1.65790856 4.074248\n",
      "  5.17444533 2.18302496 1.23021416 3.11421645]\n",
      " [5.60915555 6.54565091 2.15628373 6.54813027 3.66268959 6.11314281\n",
      "  8.46903543 7.88106645 8.06523198 9.83031038]\n",
      " [6.11173707 2.55553912 3.56177499 1.11631262 7.32592903 1.29603171\n",
      "  4.28992215 9.92080923 2.3128378  8.00627754]\n",
      " [8.32338629 8.37096366 3.76085287 2.07808366 6.23353523 9.59511063\n",
      "  7.71116139 2.74067357 8.57162213 6.23372392]\n",
      " [8.83048397 4.95859977 5.41471857 8.58475644 8.53731102 6.09474997\n",
      "  6.05942672 1.80537179 7.72459643 2.40104994]\n",
      " [1.78996676 3.23164124 7.46775747 3.30019813 9.22190762 8.99642454\n",
      "  2.1715751  5.96824124 4.39051834 2.02153979]\n",
      " [9.20128369 8.43464906 7.16604368 1.45020821 9.17450166 7.40338963\n",
      "  9.64865237 3.64733108 5.7666626  4.75469257]\n",
      " [6.75563305 7.29556557 3.81085549 8.85447901 5.13933119 9.20973066\n",
      "  9.23548528 7.88380769 4.44845988 6.51937716]\n",
      " [9.88808806 2.00720268 4.60291935 3.41588986 3.26952599 8.91042309\n",
      "  1.02285264 2.6138185  9.28967589 7.38833625]\n",
      " [1.36406154 8.46023185 2.72863887 2.04192055 5.3202984  2.95722409\n",
      "  5.74337403 6.49422652 2.02524339 8.97596272]\n",
      " [5.10216013 5.17941179 8.68485858 5.45155883 7.27572175 1.3481031\n",
      "  6.04148079 6.88923874 3.16769116 9.24183706]\n",
      " [6.30284786 5.93988005 6.63574134 1.78457085 5.95001148 8.21311627\n",
      "  3.62339566 2.37008355 5.35570208 5.46309307]\n",
      " [4.06253407 9.77572119 4.52463609 9.56992813 2.88918574 1.20187864\n",
      "  3.91986738 8.61605537 5.08030857 1.39438645]\n",
      " [9.78365238 2.50242631 7.7587038  2.97833594 8.87047619 3.32418156\n",
      "  1.6347837  7.75698009 6.11304247 8.32784703]\n",
      " [7.03247683 1.70338575 9.82934517 4.32120002 8.64597974 4.29909503\n",
      "  5.96335637 1.35619163 7.80963513 8.50574787]\n",
      " [2.135868   1.15580186 2.72747764 2.14496239 3.11618223 4.33897406\n",
      "  6.98216108 1.82559992 9.72216466 2.54909069]\n",
      " [2.47744658 5.95248352 2.0197487  4.33377193 4.61710883 8.71117156\n",
      "  3.59092505 7.98167114 6.89900173 6.54586387]\n",
      " [2.60363103 9.98486711 9.63704874 4.43506113 3.29807792 1.29200999\n",
      "  1.30239098 3.2269633  6.72412891 3.55016811]\n",
      " [8.86378783 2.01382046 4.97324114 7.39564836 2.3393909  6.91176441\n",
      "  8.17141681 2.62418468 8.72032163 8.50063329]\n",
      " [8.04984292 3.24573818 9.32884939 4.72051249 7.80012655 4.16690679\n",
      "  7.95813022 1.54925344 2.87853704 5.55558717]\n",
      " [4.01859613 2.45153597 9.58779128 3.27332672 3.17229204 9.93220166\n",
      "  8.75599278 7.87858143 3.88231759 8.58919035]\n",
      " [8.87320735 8.6060623  5.05332815 2.14109137 8.107511   6.69627296\n",
      "  9.90366489 1.22264812 1.47479323 7.76822238]\n",
      " [6.96762989 1.1141618  3.36733409 1.60968493 6.85439927 3.19399879\n",
      "  8.45519714 3.56862544 2.66847811 7.78142432]\n",
      " [3.34541311 6.50630281 8.23365482 6.97476614 2.33743288 8.61623541\n",
      "  5.93665772 7.25222868 5.85792017 7.30682049]\n",
      " [6.10727619 5.57763113 5.36688468 8.1127092  3.99853964 1.57929491\n",
      "  4.4768251  3.23933648 7.55699236 4.31448519]\n",
      " [9.64172384 1.38097979 8.5538833  5.57583736 2.16625108 2.68523542\n",
      "  6.48998836 7.79597696 9.83296029 3.98668756]\n",
      " [7.90643038 5.34323309 2.7704238  4.97644701 1.76611659 3.94308985\n",
      "  9.26341582 2.74260742 9.45076091 9.2049491 ]\n",
      " [9.30494267 6.21617256 7.4876955  1.92855409 3.86128585 7.21867029\n",
      "  8.70792139 4.30236941 7.24579935 1.62217926]\n",
      " [3.33420578 6.03535652 7.60682827 2.81275816 6.51054573 7.32092721\n",
      "  9.28241194 7.65869571 9.22759686 6.4953377 ]\n",
      " [6.00340052 7.2028648  9.7138295  6.80108072 8.84523493 4.82520289\n",
      "  4.90877178 3.7456244  7.74327284 7.38500856]\n",
      " [5.83495274 4.44318168 7.87313295 2.67834863 9.43121741 9.27968227\n",
      "  5.08788891 2.90788164 9.47642961 7.27982254]\n",
      " [9.86777135 7.67347406 3.19330443 2.57291365 8.57399124 8.92179938\n",
      "  8.47900744 6.42930004 9.04792921 1.66730814]\n",
      " [3.98086992 6.42976073 1.64523224 1.3035769  6.05045561 7.62920839\n",
      "  7.03216217 9.69722753 1.82181119 5.03006089]\n",
      " [9.84375031 2.52600331 3.11442674 3.16766092 6.10818603 3.03518883\n",
      "  1.70306561 2.43042043 4.90996942 2.49054836]\n",
      " [8.88933771 6.64645804 9.91181188 6.90381206 3.31092138 3.49965425\n",
      "  3.3667243  2.40955461 5.84704976 1.02758174]\n",
      " [5.48411726 7.70085067 1.02294682 8.63392216 2.10301025 7.60756089\n",
      "  6.29532013 2.6403568  2.5387607  2.48168655]\n",
      " [8.5529323  9.07031669 4.57694413 5.43332933 1.75473526 9.24078854\n",
      "  1.83618361 9.27212662 6.61870533 3.49554994]\n",
      " [8.09688967 5.62804032 6.63526358 3.76896303 5.23356993 7.65767428\n",
      "  4.41810326 2.56483856 6.89979875 6.91735382]\n",
      " [7.35264831 6.70748822 3.1346033  7.11739661 2.15657465 5.27801008\n",
      "  1.95121306 8.959934   8.87491126 1.38190427]\n",
      " [2.98230083 2.65356592 4.27039395 3.3412384  7.17790234 3.69871199\n",
      "  4.11430158 9.8010756  4.3398861  6.71190566]\n",
      " [1.3922424  9.15509978 3.62626275 6.7281522  8.99626163 9.79725129\n",
      "  5.46504547 2.78131098 6.63681733 4.91607703]\n",
      " [8.27784936 3.71675704 3.08161467 9.65059624 8.26088549 3.40910309\n",
      "  2.87283892 5.99811458 3.78780107 8.87288458]\n",
      " [2.70100202 7.42633848 8.63508608 2.13075983 3.08551762 6.59160012\n",
      "  2.74305144 2.16815337 1.15810281 8.17157544]\n",
      " [7.63179139 2.34097289 5.66421467 6.17032254 6.30250755 6.54007179\n",
      "  1.54856735 7.2076945  6.42880072 6.83414261]\n",
      " [1.63734136 2.07563881 4.09925481 9.82869769 5.92052073 7.39889673\n",
      "  7.64452914 5.48864193 2.3974549  2.46443381]\n",
      " [8.6750457  8.18417564 7.94398684 9.58130387 9.63283777 9.27148764\n",
      "  9.84993322 4.97130391 8.62802341 4.35045379]\n",
      " [5.83851895 6.87629337 1.56148431 7.5104512  4.17840894 4.45145966\n",
      "  2.64357417 5.43356476 3.99952978 8.8226193 ]\n",
      " [8.06315529 7.10509569 3.96414682 8.47480934 4.62545157 6.6771363\n",
      "  7.81130328 5.30909589 5.73276843 4.91213149]\n",
      " [6.87807346 3.66337529 3.61585748 9.89968703 1.53107773 5.27972921\n",
      "  3.07586767 1.27935929 5.55695677 2.4533967 ]\n",
      " [3.38692557 6.65562242 6.41739825 3.57344483 6.68415016 2.18658063\n",
      "  1.78507029 3.05324418 1.93325863 4.72632576]\n",
      " [6.62091857 6.76999067 4.54507668 6.21090936 4.16443693 2.56589489\n",
      "  6.08541582 1.70556644 6.64586671 4.93196274]\n",
      " [7.77798522 7.54970272 3.10395785 1.89190901 2.34211036 5.08558824\n",
      "  5.19061097 4.07351573 7.56070241 8.779055  ]\n",
      " [9.20497863 9.62341328 9.06484418 9.43394486 9.33021828 2.55449359\n",
      "  3.94924888 4.42398084 5.56949766 2.98734157]\n",
      " [7.57287659 8.06324773 3.90818598 9.42353116 6.61559817 7.0922561\n",
      "  6.79452385 5.72003925 5.04142713 3.58899623]\n",
      " [3.7187764  6.88598509 3.60446586 9.97251529 7.94966976 5.73716539\n",
      "  6.3402493  7.60501318 6.41553342 7.01843396]\n",
      " [1.91601712 5.67325514 6.70822925 4.16749247 9.32878785 2.36678571\n",
      "  2.15816474 2.75665852 6.29400979 4.38991053]\n",
      " [4.09693738 6.57663838 5.0980675  8.4318112  2.03751452 5.52136342\n",
      "  5.97590876 5.65636269 3.79767246 3.6738798 ]\n",
      " [7.30064379 9.68842279 4.0605926  2.45385669 8.10193794 4.46067974\n",
      "  3.65548656 3.76398094 2.4673622  4.10889812]\n",
      " [6.2088497  6.8101413  4.65237951 8.86058726 4.8069843  6.22020594\n",
      "  6.16671307 6.80948809 7.58467976 5.91837241]\n",
      " [7.16100951 6.95894773 6.35767712 8.93668397 6.71500824 5.92457418\n",
      "  9.6171883  1.96814774 8.62639635 9.65379923]\n",
      " [4.73566195 6.5372001  6.12618741 2.07617407 1.68936367 2.82750914\n",
      "  2.69805255 9.71849195 3.68406323 2.36307645]\n",
      " [8.77935577 8.85454735 4.12283392 1.17261359 1.3070284  1.17638296\n",
      "  7.69885018 5.39153933 3.99721084 8.12026954]\n",
      " [1.16462615 7.89050903 3.18678721 6.99666318 2.42299027 3.24369609\n",
      "  3.82056372 8.88625227 2.42463014 4.61572029]\n",
      " [6.9987207  2.71379387 9.39128505 2.94919381 4.55284144 3.63895528\n",
      "  8.60726022 8.4074502  6.39831468 9.46542211]\n",
      " [2.19249905 5.15586661 7.1718729  1.16405968 5.74653018 2.88334998\n",
      "  9.22957709 6.00193172 8.00990479 3.02352718]\n",
      " [8.91761968 9.1835238  5.22879389 7.36261476 8.11116577 9.09750804\n",
      "  7.48557393 9.0584656  1.34024848 8.19402104]\n",
      " [4.63565528 8.53604385 4.96007025 9.09953857 5.3800453  3.95474707\n",
      "  7.50099757 1.32301791 7.28611865 3.14596835]\n",
      " [7.44656184 2.86266726 7.62840497 3.14684782 3.63521312 5.54126562\n",
      "  6.48072366 9.52160982 7.19506903 2.97437302]\n",
      " [7.02157571 1.27541603 4.05656033 9.58053387 6.35013585 3.3008945\n",
      "  1.24833725 9.24289264 8.748331   6.9083902 ]\n",
      " [9.71929638 7.39784839 3.32792822 4.35185307 4.40525373 2.27869749\n",
      "  9.16149725 4.76903609 5.80112487 5.89981644]\n",
      " [4.06650044 6.22082354 3.87813585 2.13936291 2.28869352 4.60810603\n",
      "  2.25520635 9.69194123 8.08832624 5.34392684]\n",
      " [6.74915913 8.19857791 3.81486967 7.87272468 3.74726925 7.86453463\n",
      "  1.10159338 9.59844664 7.58529574 8.92503766]\n",
      " [1.77016222 6.39893139 1.7448946  9.00426909 9.66736416 4.41360168\n",
      "  3.54961834 4.16718474 7.91602114 6.91201668]\n",
      " [7.48938237 1.3894023  9.45981857 2.11452849 9.24062873 4.76142012\n",
      "  1.25999703 6.66069988 7.30878424 5.4689845 ]\n",
      " [3.61622755 3.49007308 2.44133934 1.24957988 4.92113999 1.7850093\n",
      "  4.05995992 9.73951175 5.57220149 4.28665983]\n",
      " [8.56217367 3.76966491 7.31689749 7.330598   7.27766    1.87226971\n",
      "  3.41896338 9.07384748 8.07287413 2.96371588]\n",
      " [6.01291087 4.72117205 2.77760547 5.9241065  3.16112951 3.45754481\n",
      "  7.25239686 5.43217483 1.31963715 7.1591084 ]\n",
      " [3.66185449 5.66437788 7.07066173 1.26730532 7.13497208 2.50227994\n",
      "  2.36475885 3.75808926 2.61167659 1.90468981]\n",
      " [7.56769261 6.25788784 5.47924931 3.15715361 5.84368185 5.69712954\n",
      "  8.5209365  9.65127424 5.84261245 8.91289323]\n",
      " [4.51260631 9.60079096 6.94691915 9.68458448 7.95660137 7.37004278\n",
      "  7.84341105 7.35414539 4.11044738 2.52410637]\n",
      " [6.04538359 2.40321682 5.95520368 8.93920286 5.39716787 4.01022821\n",
      "  8.8128969  8.93939745 9.70927357 9.57910202]\n",
      " [7.53075208 6.72834233 4.83788694 7.3272027  8.47211963 2.87690212\n",
      "  5.63837608 3.41726428 5.66347036 7.64646059]\n",
      " [1.70905819 3.30061929 7.42247466 8.29191204 2.22229577 4.69858374\n",
      "  6.74903737 3.98125894 7.1777746  1.00528072]\n",
      " [2.24027482 2.77031393 8.26527152 3.66146656 2.20376515 4.19686074\n",
      "  2.29008193 1.51906835 1.54911572 1.76277736]\n",
      " [1.48565587 3.0018982  5.42812458 2.92969513 2.23900903 9.41552297\n",
      "  7.96052793 9.393963   9.76962882 9.56213564]\n",
      " [2.55908236 4.50057279 3.72418904 9.09863126 8.15440587 9.81691993\n",
      "  3.67536871 2.47011621 2.13643547 9.20163825]\n",
      " [9.26434793 6.27539232 7.12598878 4.11205887 6.21987637 8.49397507\n",
      "  2.96211305 6.1679735  6.82500547 6.68349897]\n",
      " [8.59815959 2.98316142 1.44926036 6.32574522 5.39031283 3.85683116\n",
      "  4.30567487 9.26588394 3.10872994 6.44155439]]\n"
     ]
    }
   ],
   "source": [
    "p = np.random.rand(nc, ng)\n",
    "p = (b-a)*p + a\n",
    "fa = np.zeros([nc], dtype=np.float) #vector de aptitudes\n",
    "\n",
    "for i in range(nc):\n",
    "    fa[i] = evalreal(p[i]) #funcion de aptitud\n",
    "\n",
    "print p"
   ]
  },
  {
   "cell_type": "code",
   "execution_count": 480,
   "metadata": {},
   "outputs": [
    {
     "name": "stdout",
     "output_type": "stream",
     "text": [
      "[2.98175518e+00 1.02464983e+00 1.41024488e+00 1.36536479e-01\n",
      " 5.84054856e-02 5.24433379e-02 1.97484133e+00 2.89829558e+00\n",
      " 5.38286478e-01 1.15040309e+00 1.16650162e+00 2.03404376e+00\n",
      " 1.13835987e-01 1.51413842e+00 4.88643214e-02 8.93646998e-01\n",
      " 4.22435139e-01 5.83582208e+00 8.88780475e+00 1.86297907e-01\n",
      " 3.80020634e-01 3.92056355e-02 1.28108657e-01 2.38188646e+00\n",
      " 4.57243755e-02 2.12703722e+00 3.81519344e+00 2.75671542e-01\n",
      " 6.23692640e-01 5.50936320e+00 8.53243921e-01 5.58606673e+00\n",
      " 3.26852776e+00 3.25261979e+01 8.73139679e+00 1.84896954e+01\n",
      " 4.54990022e+00 7.38217672e+00 4.35329518e-01 3.28291236e-01\n",
      " 2.79500150e-01 4.32186150e-01 1.35614380e+00 2.58888165e+00\n",
      " 2.58006651e-01 2.61012341e-01 2.75758482e-01 1.61620575e+00\n",
      " 2.54571964e-01 3.90494320e-01 6.34093449e-01 8.65845111e+00\n",
      " 3.19398187e-01 5.51134805e-01 2.45540048e+01 2.18620019e+00\n",
      " 6.12387426e-01 1.72948609e-01 1.78420858e-01 1.91999137e-01\n",
      " 8.94653690e-01 5.05207173e-01 2.52422157e-01 8.56188760e-02\n",
      " 3.74227632e-01 2.77154155e+01 6.48160079e+01 7.97473386e+00\n",
      " 1.04159598e+00 1.94357063e+00 3.38679579e+00 3.21810153e+00\n",
      " 1.39985404e-01 1.60790832e+00 6.86839028e+00 1.55951766e+00\n",
      " 2.63316961e+00 5.55287214e-01 1.77259454e+01 1.11843038e+01\n",
      " 1.23005256e+00 9.59246140e-01 3.38970366e+00 2.86326460e+01\n",
      " 5.74456720e-01 5.47618772e+01 1.37706499e+00 3.06690520e+00\n",
      " 7.24459370e+00 2.39921489e+00 9.19014871e-01 2.20541518e+00\n",
      " 3.07772635e-01 6.57935149e+00 3.48112488e-01 3.13890228e+00\n",
      " 1.41991517e-01 1.48805790e+00 4.55257867e-02 5.91268836e-02]\n"
     ]
    }
   ],
   "source": [
    "print fa"
   ]
  },
  {
   "cell_type": "markdown",
   "metadata": {},
   "source": [
    "### 3.1.4. Ciclo principal del algoritmo genético:\n",
    "Seleccion->Cruce->Mutación->Evaluación->Inserción"
   ]
  },
  {
   "cell_type": "code",
   "execution_count": 524,
   "metadata": {},
   "outputs": [],
   "source": [
    "for i in range(ni):\n",
    "    #selection: simple - random\n",
    "    p1_index = np.random.randint(nc)\n",
    "    p2_index = np.random.randint(nc)\n",
    "    p1 = p[p1_index]\n",
    "    p2 = p[p2_index]\n",
    "    \n",
    "    #cross\n",
    "    if(np.random.rand() <= pc):\n",
    "        child1 = alpha*p1+(1-alpha)*p2\n",
    "        child2 = alpha*p2+(1-alpha)*p1\n",
    "    \n",
    "    #evaluation\n",
    "    eval_child1 = evalreal(child1)\n",
    "    eval_child2 = evalreal(child2)\n",
    "    \n",
    "    #insertion\n",
    "    if(eval_child1 < fa[p1_index]):\n",
    "        p[p1_index] = child1\n",
    "        fa[p1_index] = eval_child1\n",
    "    \n",
    "    if(eval_child2 < fa[p2_index]):\n",
    "        p[p2_index] = child2\n",
    "        fa[p2_index] = eval_child2"
   ]
  },
  {
   "cell_type": "markdown",
   "metadata": {},
   "source": [
    "### 3.1.5. Mostrar mejor individuo al final del ciclo"
   ]
  },
  {
   "cell_type": "code",
   "execution_count": 525,
   "metadata": {},
   "outputs": [
    {
     "name": "stdout",
     "output_type": "stream",
     "text": [
      "El valor de [x1, x2, ... x10] que maximizan la función es:  [2.92056868 4.01728246 4.55846521 4.09726667 3.52055509 7.17200308\n",
      " 7.19129917 7.82057103 7.25547733 7.46550389]\n",
      "Con una función de aptitud de:  0.03531119446295306\n"
     ]
    }
   ],
   "source": [
    "print 'El valor de [x1, x2, ... x10] que maximizan la función es: ', p[np.argmax(fa)]\n",
    "print 'Con una función de aptitud de: ', fa[np.argmax(fa)]"
   ]
  },
  {
   "cell_type": "code",
   "execution_count": null,
   "metadata": {},
   "outputs": [],
   "source": []
  }
 ],
 "metadata": {
  "kernelspec": {
   "display_name": "Python 2",
   "language": "python",
   "name": "python2"
  },
  "language_info": {
   "codemirror_mode": {
    "name": "ipython",
    "version": 2
   },
   "file_extension": ".py",
   "mimetype": "text/x-python",
   "name": "python",
   "nbconvert_exporter": "python",
   "pygments_lexer": "ipython2",
   "version": "2.7.15"
  }
 },
 "nbformat": 4,
 "nbformat_minor": 2
}
