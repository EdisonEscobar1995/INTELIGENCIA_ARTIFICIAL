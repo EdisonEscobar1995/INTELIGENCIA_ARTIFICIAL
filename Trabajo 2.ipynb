{
 "cells": [
  {
   "cell_type": "markdown",
   "metadata": {},
   "source": [
    "## Trabajo No. 1\n",
    "### Sobre: Algoritmos genéticos\n",
    "#### Integrantes: Cristian Yepes Sanchez, Edison Escobar Posada"
   ]
  },
  {
   "cell_type": "markdown",
   "metadata": {},
   "source": [
    "# Punto 1\n",
    "\n",
    "$aptitud(x)=\\begin{Bmatrix}\n",
    "si (\\sum x_{peso} \\leqslant k) \\Rightarrow  \\sum x_{valor}\n",
    "\\\\ \n",
    "sino \\Rightarrow  0\n",
    "\\end{Bmatrix} $"
   ]
  },
  {
   "cell_type": "markdown",
   "metadata": {},
   "source": [
    "## 1.1 Funcion de aptitud"
   ]
  },
  {
   "cell_type": "code",
   "execution_count": 2,
   "metadata": {},
   "outputs": [],
   "source": [
    "import numpy as np\n",
    "\n",
    "def funcion_aptitud(x, peso, valor, capacidad):\n",
    "\n",
    "    if (np.sum(peso*x) <= capacidad):\n",
    "        aptitud = np.sum(valor*x)\n",
    "    else:\n",
    "        aptitud = 0\n",
    "    return aptitud"
   ]
  },
  {
   "cell_type": "markdown",
   "metadata": {},
   "source": [
    "## 1.2 Parametros iniciales\n",
    "Problema 1. <img src=\"images/problema1.1.1.png\" />\n",
    "Problema 2. <img src=\"images/problema1.1.2.png\" />\n",
    "Problema 3. <img src=\"images/problema1.1.3.png\" />\n",
    "Problema 4. <img src=\"images/problema1.1.4.png\" />"
   ]
  },
  {
   "cell_type": "code",
   "execution_count": 166,
   "metadata": {},
   "outputs": [],
   "source": [
    "#Problema 1\n",
    "ni = 100 #numero de iteraciones\n",
    "nc = 10 #tamaño de la poblacion\n",
    "ng = 4 #numero de genes por cromosoma\n",
    "pc = 0.9 #probabilidad de cruce\n",
    "pm = 0.5 #probabilidad de mutacion\n",
    "\n",
    "peso = [3, 5, 9, 5]\n",
    "valor = [45, 30, 45, 10]\n",
    "k = 16"
   ]
  },
  {
   "cell_type": "code",
   "execution_count": 134,
   "metadata": {},
   "outputs": [],
   "source": [
    "#Problema 2\n",
    "ni = 100 #numero de iteraciones\n",
    "nc = 10 #tamaño de la poblacion\n",
    "ng = 8 #numero de genes por cromosoma\n",
    "pc = 0.9 #probabilidad de cruce\n",
    "pm = 0.5 #probabilidad de mutacion\n",
    "\n",
    "peso = [2, 20, 20, 30, 40, 30, 60, 10]\n",
    "valor = [15, 100, 90, 60, 40, 15, 10, 1]\n",
    "k = 102"
   ]
  },
  {
   "cell_type": "code",
   "execution_count": 3,
   "metadata": {},
   "outputs": [],
   "source": [
    "#Problema 3\n",
    "ni = 100 #numero de iteraciones\n",
    "nc = 10 #tamaño de la poblacion\n",
    "ng = 7 #numero de genes por cromosoma\n",
    "pc = 0.9 #probabilidad de cruce\n",
    "pm = 0.5 #probabilidad de mutacion\n",
    "\n",
    "peso = [31, 10, 20, 19, 4, 3, 6]\n",
    "valor = [70, 20, 39, 37, 7, 5, 10]\n",
    "k = 50"
   ]
  },
  {
   "cell_type": "code",
   "execution_count": 140,
   "metadata": {},
   "outputs": [],
   "source": [
    "#Problema 4\n",
    "ni = 100 #numero de iteraciones\n",
    "nc = 10 #tamaño de la poblacion\n",
    "ng = 7 #numero de genes por cromosoma\n",
    "pc = 0.9 #probabilidad de cruce\n",
    "pm = 0.5 #probabilidad de mutacion\n",
    "\n",
    "peso = [25, 35, 45, 5, 25, 3, 2, 2]\n",
    "valor = [350, 400, 450, 20, 70, 8, 5, 5]\n",
    "k = 104"
   ]
  },
  {
   "cell_type": "markdown",
   "metadata": {},
   "source": [
    "## 1.3 Inicializacion de poblacion (p) y calculo de funcion de aptitud"
   ]
  },
  {
   "cell_type": "code",
   "execution_count": 167,
   "metadata": {
    "scrolled": true
   },
   "outputs": [
    {
     "name": "stdout",
     "output_type": "stream",
     "text": [
      "Poblacion inicial... \n",
      "[[1. 1. 1. 1.]\n",
      " [1. 0. 1. 1.]\n",
      " [1. 1. 0. 0.]\n",
      " [0. 0. 0. 0.]\n",
      " [0. 1. 0. 1.]\n",
      " [1. 0. 0. 1.]\n",
      " [1. 0. 0. 1.]\n",
      " [0. 0. 1. 0.]\n",
      " [0. 1. 1. 0.]\n",
      " [1. 1. 1. 1.]]\n",
      "Aptitudes... \n",
      "[ 0  0 75  0 40 55 55 45 75  0]\n"
     ]
    }
   ],
   "source": [
    "#P es la poblacion inicial\n",
    "p = np.round(np.random.random([nc, ng]))\n",
    "\n",
    "#fa es el vector de la función de aptitud de cada uno de los individuos de poblacion\n",
    "fa = np.zeros([nc], dtype=np.int)\n",
    "\n",
    "for i in range(nc):\n",
    "    fa[i] = funcion_aptitud(p[i], peso, valor, k)\n",
    "\n",
    "    \n",
    "print(\"Poblacion inicial... \")\n",
    "print (p)\n",
    "print(\"Aptitudes... \")\n",
    "print (fa)"
   ]
  },
  {
   "cell_type": "markdown",
   "metadata": {},
   "source": [
    "## 1.4. Ciclo principal del algoritmo genético:\n",
    "**Seleccion->Cruce->Mutación->Evaluación->Inserción**"
   ]
  },
  {
   "cell_type": "code",
   "execution_count": 168,
   "metadata": {},
   "outputs": [],
   "source": [
    "def seleccion_ruleta(numChilds):\n",
    "    #Selección por medio de la ruleta\n",
    "    probabilidades = np.zeros([nc], dtype=np.double)\n",
    "    individuos = np.zeros([numChilds], dtype=np.int)\n",
    "    for j in range (numChilds):\n",
    "        for i in range(nc):\n",
    "            probabilidades[i] = (float(fa[i])/np.sum(fa))\n",
    "        \n",
    "        #Calculemos el valor aleatorio de la ruleta\n",
    "        numRandom = np.random.rand()\n",
    "        #print(\"Numero Random (Ruleta): \", numRandom)\n",
    "        #Calculemos las probabilidades acumuladas\n",
    "        probabilidadesAcum = np.cumsum(probabilidades)\n",
    "        \n",
    "        #Seleccionemos un individuo segun el criterio explicado anteriormente\n",
    "        individuos[j] = np.argmax(probabilidadesAcum >= numRandom)\n",
    "        #print probabilidadesAcum[np.argmax(probabilidadesAcum >= numRandom)]\n",
    "        #print(\"Individuo seleccionado: \", individuos)\n",
    "    return individuos;"
   ]
  },
  {
   "cell_type": "code",
   "execution_count": 169,
   "metadata": {},
   "outputs": [],
   "source": [
    "for i in range(ni):\n",
    "    #Seleccion - Aleatoria    \n",
    "    seleccionados = seleccion_ruleta(2)\n",
    "    p1 = seleccionados[0]\n",
    "    p2 = seleccionados[1]\n",
    "    \n",
    "    #Cruce a un punto\n",
    "    if(np.random.rand() <= pc):\n",
    "        cross_point = np.random.randint(ng)\n",
    "        child1 = np.append(p[p1, 0:cross_point], p[p2, cross_point:])\n",
    "        child2 = np.append(p[p2, 0:cross_point], p[p1, cross_point:])\n",
    "        \n",
    "    #Mutacion: se muta un bit aleatoriamente\n",
    "    if(np.random.rand() <= pm):\n",
    "        mut_point_c1 = np.random.randint(ng-1)\n",
    "        mut_point_c2 = np.random.randint(ng-1)\n",
    "        \n",
    "        child1[mut_point_c1] = 1-child1[mut_point_c1]\n",
    "        child2[mut_point_c2] = 1-child2[mut_point_c2]\n",
    "    \n",
    "    #Se evaluan los nuevos hijos\n",
    "    eval_child1 = funcion_aptitud(child1, peso, valor, k)\n",
    "    eval_child2 = funcion_aptitud(child2, peso, valor, k)\n",
    "    \n",
    "    #Insercion por reemplazo de los padres.\n",
    "    if(eval_child1 > fa[p1]):\n",
    "        p[p1] = child1\n",
    "        fa[p1] = eval_child1\n",
    "    \n",
    "    if(eval_child2 > fa[p2]):\n",
    "        p[p2] = child2\n",
    "        fa[p2] = eval_child2"
   ]
  },
  {
   "cell_type": "markdown",
   "metadata": {},
   "source": [
    "## 1.5. Mostrar mejor individuo al final del ciclo"
   ]
  },
  {
   "cell_type": "code",
   "execution_count": 171,
   "metadata": {},
   "outputs": [
    {
     "name": "stdout",
     "output_type": "stream",
     "text": [
      "La mejor configuración para la bolsa es:  [1. 0. 1. 0.]\n",
      "Con una función de aptitud de:  90\n"
     ]
    }
   ],
   "source": [
    "print 'La mejor configuración para la bolsa es: ', p[np.argmax(fa)]\n",
    "print 'Con una función de aptitud de: ', fa[np.argmax(fa)]"
   ]
  },
  {
   "cell_type": "markdown",
   "metadata": {},
   "source": [
    "# Punto 2\n",
    "\n",
    "<img src='images/viajero.png' />"
   ]
  },
  {
   "cell_type": "markdown",
   "metadata": {},
   "source": [
    "## 2.1 Inicializar parámetros del algoritmo genético y gráfico de los puntos"
   ]
  },
  {
   "cell_type": "code",
   "execution_count": 12,
   "metadata": {},
   "outputs": [
    {
     "data": {
      "text/plain": [
       "[<matplotlib.lines.Line2D at 0x919e208>]"
      ]
     },
     "execution_count": 12,
     "metadata": {},
     "output_type": "execute_result"
    },
    {
     "data": {
      "image/png": "[encoded data removed]",
      "text/plain": [
       "<Figure size 432x288 with 1 Axes>"
      ]
     },
     "metadata": {},
     "output_type": "display_data"
    }
   ],
   "source": [
    "import numpy as np\n",
    "\n",
    "%matplotlib inline\n",
    "\n",
    "import matplotlib.pyplot as plt\n",
    "\n",
    "x=np.array([1, 1, 1, 1, 2.5, 2.5, 2.5, 2.5, 2.5, 3.5, 3.5, 3.5, 3.5, 3.5, 7, 7, 7, 7, 7, 7]) #cities x coordinate\n",
    "y=np.array([1, 3, 7, 8, 14, 13.5, 13, 7.5, 1, 2, 8.2, 12.9, 13.2, 13.9, 15.5, 13.5, 12.1, 12, 10, 4]) #cities y coordinate\n",
    "\n",
    "ni = 1000 #numero de iteraciones\n",
    "nc = 10 #numero de cromosomas\n",
    "ng = 20 #numero de genes\n",
    "\n",
    "pc = 0.9 #probabilidad de cruce\n",
    "pm = 0.5 #probabilidad de mutacion\n",
    "\n",
    "plt.plot(x, y, 'r*')#cities"
   ]
  },
  {
   "cell_type": "markdown",
   "metadata": {},
   "source": [
    "## 2.2 Función de aptitud\n",
    "Para este caso, la función de aptitud de un cromosoma $c$ se define el inverso de la sumatoria de las distancias entre ciudades consecutivas que representa. Por ejemplo, el cromosoma $c = [1, 2, 3]$  representa una ruta que recorre en orden $ciudad_1->ciudad_2->ciudad_3$.\n",
    "\n",
    "En cuyo caso, la función de aptitud sería:\n",
    "\n",
    "$\\frac{1}{\\sqrt{(ciudad_1[x]-ciudad_2[x])^2 + (ciudad_1[y]-ciudad_2[y])^2} + \\sqrt{(ciudad_2[x]-ciudad_3[x])^2 + (ciudad_2[y]-ciudad_3[y])^2}}$ \n",
    "\n",
    "En términos generales, la función de aptitud se define como:\n",
    "$aptitud(x) = \\frac{1}{\\sum{\\sqrt{(ciudad_i[x]-ciudad_{i+1}[x])^2 + (ciudad_i[y]-ciudad_{i+1}[y])^2 }}}$"
   ]
  },
  {
   "cell_type": "code",
   "execution_count": 8,
   "metadata": {},
   "outputs": [],
   "source": [
    "def funcion_aptitud(c, x, y):\n",
    "    \n",
    "    #cerremos el ciclo entre ciudades\n",
    "    c = np.append(c,c[0])\n",
    "       \n",
    "    dist_sum = 0 #Esta variable almacenará la sumatoria de las distancias. Inicializar.\n",
    "    \n",
    "    for i in range(len(x)):\n",
    "        #por cada ciudad i, tomar los valores x y y de las ciudades i y la ciuad i+1\n",
    "        tx1 = x[c[i]]\n",
    "        tx2 = x[c[i+1]]\n",
    "        ty1 = y[c[i]]\n",
    "        ty2 = y[c[i+1]]\n",
    "        \n",
    "        #Valor absoluto de la distancia entre dos 2 puntos adyacentes (ciudades)\n",
    "        dist_sum += np.sqrt(abs( ((tx2-tx1)**2) + ((ty2-ty1)**2) ))\n",
    "    \n",
    "    return 1.0/dist_sum"
   ]
  },
  {
   "cell_type": "markdown",
   "metadata": {},
   "source": [
    "## 2.3. Inicializar población (p) y calcular la aptitud (fa) de sus individuos\n",
    "\n",
    "En este caso, la población inicial consiste en una matriz de enteros $p_{nc \\times ng}$, con la restricción de que la secuencia de ciudades no puede tener repetición de ciudades. Por ello cada cromosoma es una permutación de ciudades."
   ]
  },
  {
   "cell_type": "code",
   "execution_count": 16,
   "metadata": {},
   "outputs": [
    {
     "name": "stdout",
     "output_type": "stream",
     "text": [
      "[[ 3  9  4 12 11  8 15  2  5  0  6  7 17 16  1 18 14 10 13 19]\n",
      " [ 5  3 18  8  0  9 12  7 10  1  6  2 14 15 13 11  4 16 17 19]\n",
      " [ 1  6 16  7 18  5  9 15 19 14 17  2 12  0 13 11  3 10  8  4]\n",
      " [ 7  4  6  2  0  3  8 18 11 13 14  5 19  9 16 12 15 10 17  1]\n",
      " [15  2 11  7  4 18 13  6  5  1 10 19 16  3  8 14 12  0  9 17]\n",
      " [11 16 15 19  6 18 13  4 14  9  8  5 10  2  0  3 12 17  1  7]\n",
      " [15  3  9  0  1  2 10 12  4 14 13  8 16 11  5 19 17  7  6 18]\n",
      " [15 17 11 19  6  5 18  7 12  0 13 14 16  9  2  4 10  1  3  8]\n",
      " [15 13  8 11  6 19  1 16  0 14  5  9 10  4 12  3 17  2  7 18]\n",
      " [ 5  6  1  3 11 18 16  8 15 10  7 12 13  2 14  4  9 19 17  0]]\n"
     ]
    }
   ],
   "source": [
    "fa = np.zeros([nc], dtype=np.float) #vector de aptitudes\n",
    "p = np.zeros([nc, ng], dtype=np.int) #matriz de poblacion\n",
    "\n",
    "for i in range(nc):\n",
    "    #COMPLETAR: 2 lineas\n",
    "    p[i, :] = np.random.permutation(ng) #permutacion\n",
    "    fa[i] = funcion_aptitud(p[i, :], x, y) #funcion de aptitud\n",
    "print p"
   ]
  },
  {
   "cell_type": "markdown",
   "metadata": {},
   "source": [
    "### 2.4. Ciclo principal del algoritmo genético:\n",
    "**Seleccion->Cruce->Mutación->Evaluación->Inserción**\n",
    "\n",
    "Analizar en clase el siguiente código y:\n",
    "\n",
    "1. Evaluar la convergencia del algoritmo.\n",
    "2. Medir el impacto de los parametros iniciales en la convergencia.\n",
    "3. Implementar la etapa de inserción por reemplazo de los mejores de la población."
   ]
  },
  {
   "cell_type": "code",
   "execution_count": 19,
   "metadata": {},
   "outputs": [],
   "source": [
    "for i in range(ni):\n",
    "    #Seleccion: Padre1 - el mejor de la población. Padre2 - aleatorio\n",
    "    p1_index = np.argsort(fa)[::-1][0]\n",
    "    p2_index = np.random.randint(nc)\n",
    "    p1 = p[p1_index]\n",
    "    p2 = p[p2_index]\n",
    "    \n",
    "    #Cruce: un punto\n",
    "    if(np.random.rand() <= pc):\n",
    "        cross_point = np.random.randint(ng)\n",
    "        child1 = p1[0:cross_point]\n",
    "        child2 = p2[0:cross_point]\n",
    "        \n",
    "        init_k = cross_point\n",
    "        \n",
    "        for k in range(ng):\n",
    "            j = (init_k+k)%ng\n",
    "            if not(np.count_nonzero(child1 == p2[j])):\n",
    "                child1 = np.append(child1, p2[j])\n",
    "            \n",
    "            if not(np.count_nonzero(child2 == p1[j])):\n",
    "                child2 = np.append(child2, p1[j])\n",
    "\n",
    "    #Mutacion: cambio de orden\n",
    "    if(np.random.rand() <= pm):\n",
    "        mut_point_c1 = np.random.randint(ng-1)\n",
    "        mut_point_c2 = np.random.randint(ng-1)\n",
    "    \n",
    "        temp = child1[mut_point_c1]\n",
    "        child1[mut_point_c1] = child1[mut_point_c2]\n",
    "        child1[mut_point_c2] = temp\n",
    "        \n",
    "        temp = child2[mut_point_c1]\n",
    "        child2[mut_point_c1] = child2[mut_point_c2]\n",
    "        child2[mut_point_c2] = temp\n",
    "    \n",
    "    #Evaluacion de los hijos\n",
    "    eval_child1 = funcion_aptitud(child1, x, y)\n",
    "    eval_child2 = funcion_aptitud(child2, x, y)\n",
    "    \n",
    "    #Inserción: reemplazo de padres\n",
    "    if(eval_child1 > fa[p1_index]):\n",
    "        p[p1_index] = child1\n",
    "        fa[p1_index] = eval_child1\n",
    "    \n",
    "    if(eval_child2 > fa[p2_index]):\n",
    "        p[p2_index] = child2\n",
    "        fa[p2_index] = eval_child2\n",
    "    "
   ]
  },
  {
   "cell_type": "markdown",
   "metadata": {},
   "source": [
    "## 2.5. Mostrar mejor individuo al final del ciclo"
   ]
  },
  {
   "cell_type": "code",
   "execution_count": 20,
   "metadata": {},
   "outputs": [
    {
     "name": "stdout",
     "output_type": "stream",
     "text": [
      "La mejor ruta es:  [19  9  8  0  1  2 18 17 16 15 14 13 12  4  5  6 11  3  7 10]\n",
      "Con una función de aptitud de:  0.0213869829552641\n"
     ]
    }
   ],
   "source": [
    "print 'La mejor ruta es: ', p[np.argmax(fa)]\n",
    "print 'Con una función de aptitud de: ', fa[np.argmax(fa)]"
   ]
  },
  {
   "cell_type": "code",
   "execution_count": 21,
   "metadata": {},
   "outputs": [
    {
     "data": {
      "image/png": "[encoded data removed]",
      "text/plain": [
       "<Figure size 432x288 with 1 Axes>"
      ]
     },
     "metadata": {},
     "output_type": "display_data"
    }
   ],
   "source": [
    "'''\n",
    "plot solution\n",
    "'''\n",
    "best_path = p[np.argmax(fa)]\n",
    "plt.plot(x, y, 'r*')#paths\n",
    "plt.plot(x[best_path], y[best_path], 'b')#paths\n",
    "plt.show() "
   ]
  },
  {
   "cell_type": "code",
   "execution_count": null,
   "metadata": {},
   "outputs": [],
   "source": []
  }
 ],
 "metadata": {
  "kernelspec": {
   "display_name": "Python 2",
   "language": "python",
   "name": "python2"
  },
  "language_info": {
   "codemirror_mode": {
    "name": "ipython",
    "version": 2
   },
   "file_extension": ".py",
   "mimetype": "text/x-python",
   "name": "python",
   "nbconvert_exporter": "python",
   "pygments_lexer": "ipython2",
   "version": "2.7.15"
  }
 },
 "nbformat": 4,
 "nbformat_minor": 2
}
