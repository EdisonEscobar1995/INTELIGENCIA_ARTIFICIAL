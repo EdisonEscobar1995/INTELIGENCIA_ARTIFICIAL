{
 "cells": [
  {
   "cell_type": "markdown",
   "metadata": {},
   "source": [
    "<hr>\n",
    "## Trabajo No. 1\n",
    "### **Sobre**:  Solución de problemas mediante búsqueda - Búsqueda no-informada.\n",
    "\n",
    "- **Integrantes**: Cristian Yepes Sanchez, Edison Escobar Posada\n"
   ]
  },
  {
   "cell_type": "markdown",
   "metadata": {},
   "source": [
    "<hr>\n",
    "<h3>Problema 1</h3>\n",
    "1. **Imagen del problema**\n",
    "<img src=\"images/img_problema1.jpeg\" width=\"700px\" />\n",
    "\n",
    "2. **Formulación del problema:**<br>\n",
    "I= 1, O= 13 <br>\n",
    "Función de sucesión <br>\n",
    "function sucesion(nodo){ <br>\n",
    " &ensp; lista = []; <br>\n",
    " &ensp; lista.push(2*(nodo)); <br>\n",
    " &ensp; lista.push(2*(nodo)+1); <br>\n",
    " &ensp; return lista; <br>\n",
    "} <br>\n",
    "\n",
    "3. **Búsquedas:** <br>\n",
    "•**BFS** <br>\n",
    "L = L + I = [<strike>1</strike>] <br>\n",
    "L = L + S(1) = [<strike>2</strike>,3] <br>\n",
    "L = L + S(2) = [<strike>3</strike>,4,5] <br>\n",
    "L = L + S(3) = [<strike>4</strike>,5,6,7] <br>\n",
    "L = L + S(4) = [<strike>5</strike>,6,7,8,9] <br>\n",
    "L = L + S(5) = [<strike>6</strike>,6,7,8,9,10,11] <br>\n",
    "L = L + S(6) = [<strike>7</strike>,8,9,10,11,12,13] <br>\n",
    "L = L + S(7) = [<strike>8</strike>,9,10,11,12,13,14,15] <br>\n",
    "L = L + S(8) = [<strike>9</strike>,10,11,12,13,14,15] <br>\n",
    "L = L + S(9) = [<strike>10</strike>,11,12,13,14,15] <br>\n",
    "L = L + S(10) = [<strike>11</strike>,12,13,14,15] <br>\n",
    "L = L + S(11) = [<strike>12</strike>,13,14,15] <br>\n",
    "L = L + S(12) = [<strike>13</strike>,14,15] <br>\n",
    "**Listado de nodos visitados:**<br>\n",
    "1 -> 2 -> 3 -> 4 -> 5 -> 6 -> 7 -> 8 -> 9 -> 10 -> 11 -> 12 -> 13 <br>\n",
    "\n",
    "•**DLS** <br>\n",
    "**Listado de nodos visitados:** <br>\n",
    "1 -> 2 -> 4 -> 8 -> 9 -> 10 -> 11 -> 3 -> 6 -> 12 -> 13 <br>\n",
    "\n",
    "•**IDS** <br>\n",
    "**Listado de nodos visitados:** <br>\n",
    "1 -> 2 -> 4 -> 8 -> 9 -> 10 -> 11 -> 3 -> 6 -> 12 -> 13 <br>\n",
    "   \n",
    "4. **Algoritmo propuesto:** <br>"
   ]
  },
  {
   "cell_type": "code",
   "execution_count": 3,
   "metadata": {},
   "outputs": [
    {
     "name": "stdout",
     "output_type": "stream",
     "text": [
      "[1, 3, 6, 13]\n",
      "['RIGHT', 'LEFT', 'RIGHT']\n"
     ]
    }
   ],
   "source": [
    "def sucesion(I, O):\n",
    "    num = int(O)    \n",
    "    lista = []\n",
    "    listaMov = []\n",
    "    lista.append(num)\n",
    "    while(I != num):\n",
    "        num = num//2\n",
    "        lista.append(num)\n",
    "    listaAux = sorted(lista)\n",
    "    print listaAux\n",
    "    for nodo in listaAux:        \n",
    "        if nodo != I:\n",
    "            if nodo%2 == 0:\n",
    "                listaMov.append(\"LEFT\")\n",
    "            else:\n",
    "                listaMov.append(\"RIGHT\")\n",
    "    print listaMov\n",
    "\n",
    "sucesion(1,13)\n",
    "        "
   ]
  },
  {
   "cell_type": "markdown",
   "metadata": {},
   "source": [
    "<hr>\n",
    "### Problema 2\n",
    "\n",
    "1. ¿Cuántos estados tendría ese espacio?. <br>\n",
    "    **R// El espacio tendria infinitos estados, ya que cada posición (x,y) es un estado y estas posiciones puedes ser infinitas.** <br>\n",
    "    ¿Cuántas soluciones tendría el problema?. <br>\n",
    "    **R// Pueden haber infinitas soluciones.**\n",
    "2. Con la condición do que los vértices de 2 polígonos sea una línea recta, podemos descartar que entre esos 2 vértices haya polígonos u obstáculos de por medio. <br>\n",
    "A partir del razonamiento anterior se tiene que el número de estados del espacio son el estado inicial, estado final y el n número de vértices de los polígonos dentro del espacio, para este ejemplo el número de estados es 35.\n",
    "3. **Formulación del problema:**\n",
    "    - **Estado inicial:** (Ix,Iy)\n",
    "    - **Estado Final u Objetivo:** (Ox,Oy)\n",
    "    - **Función de sucesión:** Esta función recibira por parametro un punto (x,y) y apartir de este punto nos retornara un arreglo con los puntos (x,y) a los que este punto puede llegar atravez una linea recta sin obstaculo alguno.\n",
    "4. BFS para el problema planteado:\n",
    "<img src=\"images/img_poligonos.jpeg\" />"
   ]
  },
  {
   "cell_type": "markdown",
   "metadata": {},
   "source": [
    "<hr>\n",
    "### Problema 3\n",
    "\n",
    "1. **Formulación de problema:** <br>\n",
    "    - **Estado Inicial:** Url1\n",
    "    - **Estado Objetivo:** Url2\n",
    "    - **Función de sucesión:** A la función se le pasa por parámetro una url y esta nos retornara todas posibles urls a las que puedo visitar desde la url enviada por parámetro.\n",
    "2. Se podría utilizar la estrategia de búsqueda **BFS**, tanto para la Url1 como para la Url2 y se compara los nodos hijos de la Url1 con todos los nodos de la Url2, hasta que se encuentre un nodo en común entre ambas Urls.\n",
    "<img src=\"images/img_problema4.jpg\" width=\"700px\"/>\n",
    "**Url1 (Url1): ** www.wikipedia.com <br>\n",
    "**Url2: ** www.google.com <br>\n",
    "**Url3: ** www.facebook.com <br>\n",
    "**Url4: ** www.youtube.com <br>\n",
    "**Url5: ** www.themeforest.net <br>\n",
    "**Url6: ** www.enter.co <br>\n",
    "**Url7: ** www.icefilms.info <br>\n",
    "**Url8: ** www.netflix.com <br>\n",
    "**Url9: ** www.rojadirecta.me <br>\n",
    "**Url10: ** http://www.zonacubierta.com <br>\n",
    "**Url11: ** www.google.com/adsense/start/ <br>\n",
    "**Url12: ** https://www.yahoo.es <br>\n",
    "**Url13: ** https://www.10ejemplos.com <br>\n",
    "**Url14: ** https://www.elespectador.com/noticias <br>\n",
    "**Url15: ** https://github.com/psatencio/IA_ITM/tree/2018_II <br>\n",
    "**Url16: ** www.github.com <br>\n",
    "**Url17: ** https://www.youtube.com/watchv=Q8hugySbLQQ&list=PLU8oAlHdN5BlvPxziopYZRd55pdqFwkeS&index=7 <br>\n",
    "**Url18 (Url2): ** www.gmail.com <br>\n",
    "**Url19: ** http://www.itm.edu.co <br>\n",
    "**Url20: ** https://news.google.com/?hl=es-419&gl=CO&ceid=CO:es-419 <br>\n",
    "**Url21: ** https://es.stackoverflow.com/ <br>\n",
    "**Url22: ** http://showcase.richfaces.org <br>\n",
    "**Url23: ** https://github.com/psatencio/IA_ITM/tree/2018_II <br>\n",
    "\n",
    "Después de tener armado el árbol de la Url de Inicio y Destino, se observa que hay un nodo en común que son el 15 y el 23, teniendo ya ese nodo en común se podría navegar desde la Url de Inicio y Destino por medio de los enlaces\n",
    "\n",
    "3. Si es posible implementar la estrategia de búsqueda bidirectional search para este propósito, ya que este método toma dos puntos, inicial y final, y realiza una búsqueda a lo ancho en los dos nodos hasta que se encuentre un nodo en común entre las búsquedas y hallando el nodo común se haya el camino entre las 2 Urls del problema"
   ]
  },
  {
   "cell_type": "code",
   "execution_count": null,
   "metadata": {},
   "outputs": [],
   "source": []
  }
 ],
 "metadata": {
  "kernelspec": {
   "display_name": "Python 2",
   "language": "python",
   "name": "python2"
  },
  "language_info": {
   "codemirror_mode": {
    "name": "ipython",
    "version": 2
   },
   "file_extension": ".py",
   "mimetype": "text/x-python",
   "name": "python",
   "nbconvert_exporter": "python",
   "pygments_lexer": "ipython2",
   "version": "2.7.15"
  }
 },
 "nbformat": 4,
 "nbformat_minor": 2
}
